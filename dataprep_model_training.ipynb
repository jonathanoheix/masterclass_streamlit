{
 "cells": [
  {
   "cell_type": "code",
   "execution_count": 4,
   "id": "d091dd4d",
   "metadata": {},
   "outputs": [],
   "source": [
    "import pandas as pd\n",
    "from sklearn.ensemble import RandomForestRegressor\n",
    "import pickle"
   ]
  },
  {
   "cell_type": "code",
   "execution_count": 19,
   "id": "5ab5d231",
   "metadata": {},
   "outputs": [
    {
     "data": {
      "text/html": [
       "<div>\n",
       "<style scoped>\n",
       "    .dataframe tbody tr th:only-of-type {\n",
       "        vertical-align: middle;\n",
       "    }\n",
       "\n",
       "    .dataframe tbody tr th {\n",
       "        vertical-align: top;\n",
       "    }\n",
       "\n",
       "    .dataframe thead th {\n",
       "        text-align: right;\n",
       "    }\n",
       "</style>\n",
       "<table border=\"1\" class=\"dataframe\">\n",
       "  <thead>\n",
       "    <tr style=\"text-align: right;\">\n",
       "      <th></th>\n",
       "      <th>id</th>\n",
       "      <th>name</th>\n",
       "      <th>host_id</th>\n",
       "      <th>host_name</th>\n",
       "      <th>neighbourhood_group</th>\n",
       "      <th>neighbourhood</th>\n",
       "      <th>latitude</th>\n",
       "      <th>longitude</th>\n",
       "      <th>room_type</th>\n",
       "      <th>price</th>\n",
       "      <th>minimum_nights</th>\n",
       "      <th>number_of_reviews</th>\n",
       "      <th>last_review</th>\n",
       "      <th>reviews_per_month</th>\n",
       "      <th>calculated_host_listings_count</th>\n",
       "      <th>availability_365</th>\n",
       "    </tr>\n",
       "  </thead>\n",
       "  <tbody>\n",
       "    <tr>\n",
       "      <th>0</th>\n",
       "      <td>2539</td>\n",
       "      <td>Clean &amp; quiet apt home by the park</td>\n",
       "      <td>2787</td>\n",
       "      <td>John</td>\n",
       "      <td>Brooklyn</td>\n",
       "      <td>Kensington</td>\n",
       "      <td>40.64749</td>\n",
       "      <td>-73.97237</td>\n",
       "      <td>Private room</td>\n",
       "      <td>149</td>\n",
       "      <td>1</td>\n",
       "      <td>9</td>\n",
       "      <td>2018-10-19</td>\n",
       "      <td>0.21</td>\n",
       "      <td>6</td>\n",
       "      <td>365</td>\n",
       "    </tr>\n",
       "    <tr>\n",
       "      <th>1</th>\n",
       "      <td>2595</td>\n",
       "      <td>Skylit Midtown Castle</td>\n",
       "      <td>2845</td>\n",
       "      <td>Jennifer</td>\n",
       "      <td>Manhattan</td>\n",
       "      <td>Midtown</td>\n",
       "      <td>40.75362</td>\n",
       "      <td>-73.98377</td>\n",
       "      <td>Entire home/apt</td>\n",
       "      <td>225</td>\n",
       "      <td>1</td>\n",
       "      <td>45</td>\n",
       "      <td>2019-05-21</td>\n",
       "      <td>0.38</td>\n",
       "      <td>2</td>\n",
       "      <td>355</td>\n",
       "    </tr>\n",
       "    <tr>\n",
       "      <th>2</th>\n",
       "      <td>3647</td>\n",
       "      <td>THE VILLAGE OF HARLEM....NEW YORK !</td>\n",
       "      <td>4632</td>\n",
       "      <td>Elisabeth</td>\n",
       "      <td>Manhattan</td>\n",
       "      <td>Harlem</td>\n",
       "      <td>40.80902</td>\n",
       "      <td>-73.94190</td>\n",
       "      <td>Private room</td>\n",
       "      <td>150</td>\n",
       "      <td>3</td>\n",
       "      <td>0</td>\n",
       "      <td>NaN</td>\n",
       "      <td>NaN</td>\n",
       "      <td>1</td>\n",
       "      <td>365</td>\n",
       "    </tr>\n",
       "    <tr>\n",
       "      <th>3</th>\n",
       "      <td>3831</td>\n",
       "      <td>Cozy Entire Floor of Brownstone</td>\n",
       "      <td>4869</td>\n",
       "      <td>LisaRoxanne</td>\n",
       "      <td>Brooklyn</td>\n",
       "      <td>Clinton Hill</td>\n",
       "      <td>40.68514</td>\n",
       "      <td>-73.95976</td>\n",
       "      <td>Entire home/apt</td>\n",
       "      <td>89</td>\n",
       "      <td>1</td>\n",
       "      <td>270</td>\n",
       "      <td>2019-07-05</td>\n",
       "      <td>4.64</td>\n",
       "      <td>1</td>\n",
       "      <td>194</td>\n",
       "    </tr>\n",
       "    <tr>\n",
       "      <th>4</th>\n",
       "      <td>5022</td>\n",
       "      <td>Entire Apt: Spacious Studio/Loft by central park</td>\n",
       "      <td>7192</td>\n",
       "      <td>Laura</td>\n",
       "      <td>Manhattan</td>\n",
       "      <td>East Harlem</td>\n",
       "      <td>40.79851</td>\n",
       "      <td>-73.94399</td>\n",
       "      <td>Entire home/apt</td>\n",
       "      <td>80</td>\n",
       "      <td>10</td>\n",
       "      <td>9</td>\n",
       "      <td>2018-11-19</td>\n",
       "      <td>0.10</td>\n",
       "      <td>1</td>\n",
       "      <td>0</td>\n",
       "    </tr>\n",
       "  </tbody>\n",
       "</table>\n",
       "</div>"
      ],
      "text/plain": [
       "     id                                              name  host_id  \\\n",
       "0  2539                Clean & quiet apt home by the park     2787   \n",
       "1  2595                             Skylit Midtown Castle     2845   \n",
       "2  3647               THE VILLAGE OF HARLEM....NEW YORK !     4632   \n",
       "3  3831                   Cozy Entire Floor of Brownstone     4869   \n",
       "4  5022  Entire Apt: Spacious Studio/Loft by central park     7192   \n",
       "\n",
       "     host_name neighbourhood_group neighbourhood  latitude  longitude  \\\n",
       "0         John            Brooklyn    Kensington  40.64749  -73.97237   \n",
       "1     Jennifer           Manhattan       Midtown  40.75362  -73.98377   \n",
       "2    Elisabeth           Manhattan        Harlem  40.80902  -73.94190   \n",
       "3  LisaRoxanne            Brooklyn  Clinton Hill  40.68514  -73.95976   \n",
       "4        Laura           Manhattan   East Harlem  40.79851  -73.94399   \n",
       "\n",
       "         room_type  price  minimum_nights  number_of_reviews last_review  \\\n",
       "0     Private room    149               1                  9  2018-10-19   \n",
       "1  Entire home/apt    225               1                 45  2019-05-21   \n",
       "2     Private room    150               3                  0         NaN   \n",
       "3  Entire home/apt     89               1                270  2019-07-05   \n",
       "4  Entire home/apt     80              10                  9  2018-11-19   \n",
       "\n",
       "   reviews_per_month  calculated_host_listings_count  availability_365  \n",
       "0               0.21                               6               365  \n",
       "1               0.38                               2               355  \n",
       "2                NaN                               1               365  \n",
       "3               4.64                               1               194  \n",
       "4               0.10                               1                 0  "
      ]
     },
     "execution_count": 19,
     "metadata": {},
     "output_type": "execute_result"
    }
   ],
   "source": [
    "# import\n",
    "# source : https://www.kaggle.com/datasets/dgomonov/new-york-city-airbnb-open-data\n",
    "\n",
    "df = pd.read_csv('AB_NYC_2019.csv')\n",
    "df.head()"
   ]
  },
  {
   "cell_type": "code",
   "execution_count": 6,
   "id": "dd2a6a12",
   "metadata": {},
   "outputs": [
    {
     "data": {
      "text/plain": [
       "(48895, 16)"
      ]
     },
     "execution_count": 6,
     "metadata": {},
     "output_type": "execute_result"
    }
   ],
   "source": [
    "df.shape"
   ]
  },
  {
   "cell_type": "code",
   "execution_count": 7,
   "id": "b00da559",
   "metadata": {},
   "outputs": [
    {
     "data": {
      "text/html": [
       "<div>\n",
       "<style scoped>\n",
       "    .dataframe tbody tr th:only-of-type {\n",
       "        vertical-align: middle;\n",
       "    }\n",
       "\n",
       "    .dataframe tbody tr th {\n",
       "        vertical-align: top;\n",
       "    }\n",
       "\n",
       "    .dataframe thead th {\n",
       "        text-align: right;\n",
       "    }\n",
       "</style>\n",
       "<table border=\"1\" class=\"dataframe\">\n",
       "  <thead>\n",
       "    <tr style=\"text-align: right;\">\n",
       "      <th></th>\n",
       "      <th>name</th>\n",
       "      <th>neighbourhood_group</th>\n",
       "      <th>neighbourhood</th>\n",
       "      <th>latitude</th>\n",
       "      <th>longitude</th>\n",
       "      <th>room_type</th>\n",
       "      <th>price</th>\n",
       "      <th>number_of_reviews</th>\n",
       "    </tr>\n",
       "  </thead>\n",
       "  <tbody>\n",
       "    <tr>\n",
       "      <th>0</th>\n",
       "      <td>Clean &amp; quiet apt home by the park</td>\n",
       "      <td>Brooklyn</td>\n",
       "      <td>Kensington</td>\n",
       "      <td>40.64749</td>\n",
       "      <td>-73.97237</td>\n",
       "      <td>Private room</td>\n",
       "      <td>149</td>\n",
       "      <td>9</td>\n",
       "    </tr>\n",
       "    <tr>\n",
       "      <th>1</th>\n",
       "      <td>Skylit Midtown Castle</td>\n",
       "      <td>Manhattan</td>\n",
       "      <td>Midtown</td>\n",
       "      <td>40.75362</td>\n",
       "      <td>-73.98377</td>\n",
       "      <td>Entire home/apt</td>\n",
       "      <td>225</td>\n",
       "      <td>45</td>\n",
       "    </tr>\n",
       "    <tr>\n",
       "      <th>2</th>\n",
       "      <td>THE VILLAGE OF HARLEM....NEW YORK !</td>\n",
       "      <td>Manhattan</td>\n",
       "      <td>Harlem</td>\n",
       "      <td>40.80902</td>\n",
       "      <td>-73.94190</td>\n",
       "      <td>Private room</td>\n",
       "      <td>150</td>\n",
       "      <td>0</td>\n",
       "    </tr>\n",
       "    <tr>\n",
       "      <th>3</th>\n",
       "      <td>Cozy Entire Floor of Brownstone</td>\n",
       "      <td>Brooklyn</td>\n",
       "      <td>Clinton Hill</td>\n",
       "      <td>40.68514</td>\n",
       "      <td>-73.95976</td>\n",
       "      <td>Entire home/apt</td>\n",
       "      <td>89</td>\n",
       "      <td>270</td>\n",
       "    </tr>\n",
       "    <tr>\n",
       "      <th>4</th>\n",
       "      <td>Entire Apt: Spacious Studio/Loft by central park</td>\n",
       "      <td>Manhattan</td>\n",
       "      <td>East Harlem</td>\n",
       "      <td>40.79851</td>\n",
       "      <td>-73.94399</td>\n",
       "      <td>Entire home/apt</td>\n",
       "      <td>80</td>\n",
       "      <td>9</td>\n",
       "    </tr>\n",
       "  </tbody>\n",
       "</table>\n",
       "</div>"
      ],
      "text/plain": [
       "                                               name neighbourhood_group  \\\n",
       "0                Clean & quiet apt home by the park            Brooklyn   \n",
       "1                             Skylit Midtown Castle           Manhattan   \n",
       "2               THE VILLAGE OF HARLEM....NEW YORK !           Manhattan   \n",
       "3                   Cozy Entire Floor of Brownstone            Brooklyn   \n",
       "4  Entire Apt: Spacious Studio/Loft by central park           Manhattan   \n",
       "\n",
       "  neighbourhood  latitude  longitude        room_type  price  \\\n",
       "0    Kensington  40.64749  -73.97237     Private room    149   \n",
       "1       Midtown  40.75362  -73.98377  Entire home/apt    225   \n",
       "2        Harlem  40.80902  -73.94190     Private room    150   \n",
       "3  Clinton Hill  40.68514  -73.95976  Entire home/apt     89   \n",
       "4   East Harlem  40.79851  -73.94399  Entire home/apt     80   \n",
       "\n",
       "   number_of_reviews  \n",
       "0                  9  \n",
       "1                 45  \n",
       "2                  0  \n",
       "3                270  \n",
       "4                  9  "
      ]
     },
     "execution_count": 7,
     "metadata": {},
     "output_type": "execute_result"
    }
   ],
   "source": [
    "# select cols\n",
    "\n",
    "df = df[['name', 'neighbourhood_group', 'neighbourhood', 'latitude', 'longitude', 'room_type', 'price', 'number_of_reviews']]\n",
    "df.head()"
   ]
  },
  {
   "cell_type": "code",
   "execution_count": 8,
   "id": "e4d437b8",
   "metadata": {},
   "outputs": [
    {
     "data": {
      "text/html": [
       "<div>\n",
       "<style scoped>\n",
       "    .dataframe tbody tr th:only-of-type {\n",
       "        vertical-align: middle;\n",
       "    }\n",
       "\n",
       "    .dataframe tbody tr th {\n",
       "        vertical-align: top;\n",
       "    }\n",
       "\n",
       "    .dataframe thead th {\n",
       "        text-align: right;\n",
       "    }\n",
       "</style>\n",
       "<table border=\"1\" class=\"dataframe\">\n",
       "  <thead>\n",
       "    <tr style=\"text-align: right;\">\n",
       "      <th></th>\n",
       "      <th>name</th>\n",
       "      <th>latitude</th>\n",
       "      <th>longitude</th>\n",
       "      <th>price</th>\n",
       "      <th>number_of_reviews</th>\n",
       "      <th>neighbourhood_group_Bronx</th>\n",
       "      <th>neighbourhood_group_Brooklyn</th>\n",
       "      <th>neighbourhood_group_Manhattan</th>\n",
       "      <th>neighbourhood_group_Queens</th>\n",
       "      <th>neighbourhood_group_Staten Island</th>\n",
       "      <th>...</th>\n",
       "      <th>neighbourhood_Williamsburg</th>\n",
       "      <th>neighbourhood_Willowbrook</th>\n",
       "      <th>neighbourhood_Windsor Terrace</th>\n",
       "      <th>neighbourhood_Woodhaven</th>\n",
       "      <th>neighbourhood_Woodlawn</th>\n",
       "      <th>neighbourhood_Woodrow</th>\n",
       "      <th>neighbourhood_Woodside</th>\n",
       "      <th>room_type_Entire home/apt</th>\n",
       "      <th>room_type_Private room</th>\n",
       "      <th>room_type_Shared room</th>\n",
       "    </tr>\n",
       "  </thead>\n",
       "  <tbody>\n",
       "    <tr>\n",
       "      <th>0</th>\n",
       "      <td>Clean &amp; quiet apt home by the park</td>\n",
       "      <td>40.64749</td>\n",
       "      <td>-73.97237</td>\n",
       "      <td>149</td>\n",
       "      <td>9</td>\n",
       "      <td>0</td>\n",
       "      <td>1</td>\n",
       "      <td>0</td>\n",
       "      <td>0</td>\n",
       "      <td>0</td>\n",
       "      <td>...</td>\n",
       "      <td>0</td>\n",
       "      <td>0</td>\n",
       "      <td>0</td>\n",
       "      <td>0</td>\n",
       "      <td>0</td>\n",
       "      <td>0</td>\n",
       "      <td>0</td>\n",
       "      <td>0</td>\n",
       "      <td>1</td>\n",
       "      <td>0</td>\n",
       "    </tr>\n",
       "    <tr>\n",
       "      <th>1</th>\n",
       "      <td>Skylit Midtown Castle</td>\n",
       "      <td>40.75362</td>\n",
       "      <td>-73.98377</td>\n",
       "      <td>225</td>\n",
       "      <td>45</td>\n",
       "      <td>0</td>\n",
       "      <td>0</td>\n",
       "      <td>1</td>\n",
       "      <td>0</td>\n",
       "      <td>0</td>\n",
       "      <td>...</td>\n",
       "      <td>0</td>\n",
       "      <td>0</td>\n",
       "      <td>0</td>\n",
       "      <td>0</td>\n",
       "      <td>0</td>\n",
       "      <td>0</td>\n",
       "      <td>0</td>\n",
       "      <td>1</td>\n",
       "      <td>0</td>\n",
       "      <td>0</td>\n",
       "    </tr>\n",
       "    <tr>\n",
       "      <th>2</th>\n",
       "      <td>THE VILLAGE OF HARLEM....NEW YORK !</td>\n",
       "      <td>40.80902</td>\n",
       "      <td>-73.94190</td>\n",
       "      <td>150</td>\n",
       "      <td>0</td>\n",
       "      <td>0</td>\n",
       "      <td>0</td>\n",
       "      <td>1</td>\n",
       "      <td>0</td>\n",
       "      <td>0</td>\n",
       "      <td>...</td>\n",
       "      <td>0</td>\n",
       "      <td>0</td>\n",
       "      <td>0</td>\n",
       "      <td>0</td>\n",
       "      <td>0</td>\n",
       "      <td>0</td>\n",
       "      <td>0</td>\n",
       "      <td>0</td>\n",
       "      <td>1</td>\n",
       "      <td>0</td>\n",
       "    </tr>\n",
       "    <tr>\n",
       "      <th>3</th>\n",
       "      <td>Cozy Entire Floor of Brownstone</td>\n",
       "      <td>40.68514</td>\n",
       "      <td>-73.95976</td>\n",
       "      <td>89</td>\n",
       "      <td>270</td>\n",
       "      <td>0</td>\n",
       "      <td>1</td>\n",
       "      <td>0</td>\n",
       "      <td>0</td>\n",
       "      <td>0</td>\n",
       "      <td>...</td>\n",
       "      <td>0</td>\n",
       "      <td>0</td>\n",
       "      <td>0</td>\n",
       "      <td>0</td>\n",
       "      <td>0</td>\n",
       "      <td>0</td>\n",
       "      <td>0</td>\n",
       "      <td>1</td>\n",
       "      <td>0</td>\n",
       "      <td>0</td>\n",
       "    </tr>\n",
       "    <tr>\n",
       "      <th>4</th>\n",
       "      <td>Entire Apt: Spacious Studio/Loft by central park</td>\n",
       "      <td>40.79851</td>\n",
       "      <td>-73.94399</td>\n",
       "      <td>80</td>\n",
       "      <td>9</td>\n",
       "      <td>0</td>\n",
       "      <td>0</td>\n",
       "      <td>1</td>\n",
       "      <td>0</td>\n",
       "      <td>0</td>\n",
       "      <td>...</td>\n",
       "      <td>0</td>\n",
       "      <td>0</td>\n",
       "      <td>0</td>\n",
       "      <td>0</td>\n",
       "      <td>0</td>\n",
       "      <td>0</td>\n",
       "      <td>0</td>\n",
       "      <td>1</td>\n",
       "      <td>0</td>\n",
       "      <td>0</td>\n",
       "    </tr>\n",
       "  </tbody>\n",
       "</table>\n",
       "<p>5 rows × 234 columns</p>\n",
       "</div>"
      ],
      "text/plain": [
       "                                               name  latitude  longitude  \\\n",
       "0                Clean & quiet apt home by the park  40.64749  -73.97237   \n",
       "1                             Skylit Midtown Castle  40.75362  -73.98377   \n",
       "2               THE VILLAGE OF HARLEM....NEW YORK !  40.80902  -73.94190   \n",
       "3                   Cozy Entire Floor of Brownstone  40.68514  -73.95976   \n",
       "4  Entire Apt: Spacious Studio/Loft by central park  40.79851  -73.94399   \n",
       "\n",
       "   price  number_of_reviews  neighbourhood_group_Bronx  \\\n",
       "0    149                  9                          0   \n",
       "1    225                 45                          0   \n",
       "2    150                  0                          0   \n",
       "3     89                270                          0   \n",
       "4     80                  9                          0   \n",
       "\n",
       "   neighbourhood_group_Brooklyn  neighbourhood_group_Manhattan  \\\n",
       "0                             1                              0   \n",
       "1                             0                              1   \n",
       "2                             0                              1   \n",
       "3                             1                              0   \n",
       "4                             0                              1   \n",
       "\n",
       "   neighbourhood_group_Queens  neighbourhood_group_Staten Island  ...  \\\n",
       "0                           0                                  0  ...   \n",
       "1                           0                                  0  ...   \n",
       "2                           0                                  0  ...   \n",
       "3                           0                                  0  ...   \n",
       "4                           0                                  0  ...   \n",
       "\n",
       "   neighbourhood_Williamsburg  neighbourhood_Willowbrook  \\\n",
       "0                           0                          0   \n",
       "1                           0                          0   \n",
       "2                           0                          0   \n",
       "3                           0                          0   \n",
       "4                           0                          0   \n",
       "\n",
       "   neighbourhood_Windsor Terrace  neighbourhood_Woodhaven  \\\n",
       "0                              0                        0   \n",
       "1                              0                        0   \n",
       "2                              0                        0   \n",
       "3                              0                        0   \n",
       "4                              0                        0   \n",
       "\n",
       "   neighbourhood_Woodlawn  neighbourhood_Woodrow  neighbourhood_Woodside  \\\n",
       "0                       0                      0                       0   \n",
       "1                       0                      0                       0   \n",
       "2                       0                      0                       0   \n",
       "3                       0                      0                       0   \n",
       "4                       0                      0                       0   \n",
       "\n",
       "   room_type_Entire home/apt  room_type_Private room  room_type_Shared room  \n",
       "0                          0                       1                      0  \n",
       "1                          1                       0                      0  \n",
       "2                          0                       1                      0  \n",
       "3                          1                       0                      0  \n",
       "4                          1                       0                      0  \n",
       "\n",
       "[5 rows x 234 columns]"
      ]
     },
     "execution_count": 8,
     "metadata": {},
     "output_type": "execute_result"
    }
   ],
   "source": [
    "# dummify columns\n",
    "\n",
    "df = df.join(pd.get_dummies(df['neighbourhood_group'], prefix='neighbourhood_group'))\n",
    "df = df.join(pd.get_dummies(df['neighbourhood'], prefix='neighbourhood'))\n",
    "df = df.join(pd.get_dummies(df['room_type'], prefix='room_type'))\n",
    "df = df.drop(['neighbourhood_group', 'neighbourhood', 'room_type'], axis=1)\n",
    "df.head()"
   ]
  },
  {
   "cell_type": "code",
   "execution_count": 9,
   "id": "af22f038",
   "metadata": {},
   "outputs": [
    {
     "data": {
      "text/plain": [
       "RandomForestRegressor(max_depth=5, random_state=0)"
      ]
     },
     "execution_count": 9,
     "metadata": {},
     "output_type": "execute_result"
    }
   ],
   "source": [
    "# train model\n",
    "\n",
    "prediction_col = 'price'\n",
    "ignore_cols = ['name', 'latitude', 'longitude']\n",
    "features_cols = [c for c in df.columns if (c != prediction_col and c not in ignore_cols)]\n",
    "\n",
    "X = df[features_cols]\n",
    "y = df[prediction_col]\n",
    "\n",
    "model = RandomForestRegressor(n_estimators=100, max_depth=5, random_state=0)\n",
    "model.fit(X, y)"
   ]
  },
  {
   "cell_type": "code",
   "execution_count": 10,
   "id": "2b0628af",
   "metadata": {},
   "outputs": [],
   "source": [
    "# export model\n",
    "\n",
    "pickle.dump(model, open('model.pkl', 'wb'))"
   ]
  },
  {
   "cell_type": "code",
   "execution_count": null,
   "id": "8150f91d",
   "metadata": {},
   "outputs": [],
   "source": []
  },
  {
   "cell_type": "code",
   "execution_count": 3,
   "id": "647527b3",
   "metadata": {},
   "outputs": [],
   "source": [
    "# tests\n",
    "import numpy as np\n",
    "import matplotlib.pyplot as plt\n",
    "import seaborn as sns\n",
    "import plotly.express as px"
   ]
  },
  {
   "cell_type": "code",
   "execution_count": 27,
   "id": "089c181e",
   "metadata": {},
   "outputs": [
    {
     "data": {
      "text/plain": [
       "(array([47660,   937,   133,    55,    33,    24,    10,     8,     7,\n",
       "            2,     8,     0,     3,     4,     0,     3,     1,     1,\n",
       "            0,     6]),\n",
       " array([    0.,   500.,  1000.,  1500.,  2000.,  2500.,  3000.,  3500.,\n",
       "         4000.,  4500.,  5000.,  5500.,  6000.,  6500.,  7000.,  7500.,\n",
       "         8000.,  8500.,  9000.,  9500., 10000.]))"
      ]
     },
     "execution_count": 27,
     "metadata": {},
     "output_type": "execute_result"
    }
   ],
   "source": [
    "np.histogram(df['price'], bins=20)"
   ]
  },
  {
   "cell_type": "code",
   "execution_count": 11,
   "id": "cc48f1ca",
   "metadata": {},
   "outputs": [
    {
     "data": {
      "image/png": "[encoded data removed]",
      "text/plain": [
       "<Figure size 640x480 with 1 Axes>"
      ]
     },
     "metadata": {},
     "output_type": "display_data"
    }
   ],
   "source": [
    "fig = plt.hist(df['price'], bins=20)"
   ]
  },
  {
   "cell_type": "code",
   "execution_count": 12,
   "id": "11e2003e",
   "metadata": {},
   "outputs": [
    {
     "data": {
      "text/plain": [
       "(array([4.766e+04, 9.370e+02, 1.330e+02, 5.500e+01, 3.300e+01, 2.400e+01,\n",
       "        1.000e+01, 8.000e+00, 7.000e+00, 2.000e+00, 8.000e+00, 0.000e+00,\n",
       "        3.000e+00, 4.000e+00, 0.000e+00, 3.000e+00, 1.000e+00, 1.000e+00,\n",
       "        0.000e+00, 6.000e+00]),\n",
       " array([    0.,   500.,  1000.,  1500.,  2000.,  2500.,  3000.,  3500.,\n",
       "         4000.,  4500.,  5000.,  5500.,  6000.,  6500.,  7000.,  7500.,\n",
       "         8000.,  8500.,  9000.,  9500., 10000.]),\n",
       " <BarContainer object of 20 artists>)"
      ]
     },
     "execution_count": 12,
     "metadata": {},
     "output_type": "execute_result"
    }
   ],
   "source": [
    "fig"
   ]
  },
  {
   "cell_type": "code",
   "execution_count": 13,
   "id": "e89dee2a",
   "metadata": {},
   "outputs": [
    {
     "data": {
      "text/plain": [
       "(array([4.766e+04, 9.370e+02, 1.330e+02, 5.500e+01, 3.300e+01, 2.400e+01,\n",
       "        1.000e+01, 8.000e+00, 7.000e+00, 2.000e+00, 8.000e+00, 0.000e+00,\n",
       "        3.000e+00, 4.000e+00, 0.000e+00, 3.000e+00, 1.000e+00, 1.000e+00,\n",
       "        0.000e+00, 6.000e+00]),\n",
       " array([    0.,   500.,  1000.,  1500.,  2000.,  2500.,  3000.,  3500.,\n",
       "         4000.,  4500.,  5000.,  5500.,  6000.,  6500.,  7000.,  7500.,\n",
       "         8000.,  8500.,  9000.,  9500., 10000.]),\n",
       " <BarContainer object of 20 artists>)"
      ]
     },
     "execution_count": 13,
     "metadata": {},
     "output_type": "execute_result"
    },
    {
     "data": {
      "image/png": "[encoded data removed]",
      "text/plain": [
       "<Figure size 640x480 with 1 Axes>"
      ]
     },
     "metadata": {},
     "output_type": "display_data"
    }
   ],
   "source": [
    "fig, ax = plt.subplots()\n",
    "ax.hist(df['price'], bins=20)"
   ]
  },
  {
   "cell_type": "code",
   "execution_count": 15,
   "id": "d61de9c1",
   "metadata": {},
   "outputs": [
    {
     "data": {
      "image/png": "[encoded data removed]",
      "text/plain": [
       "<Figure size 640x480 with 1 Axes>"
      ]
     },
     "execution_count": 15,
     "metadata": {},
     "output_type": "execute_result"
    }
   ],
   "source": [
    "fig"
   ]
  },
  {
   "cell_type": "code",
   "execution_count": 20,
   "id": "4943a38d",
   "metadata": {},
   "outputs": [
    {
     "data": {
      "text/plain": [
       "<seaborn.axisgrid.FacetGrid at 0x7f7b28f393a0>"
      ]
     },
     "execution_count": 20,
     "metadata": {},
     "output_type": "execute_result"
    },
    {
     "data": {
      "image/png": "[encoded data removed]",
      "text/plain": [
       "<Figure size 500x500 with 1 Axes>"
      ]
     },
     "metadata": {},
     "output_type": "display_data"
    }
   ],
   "source": [
    "sns.displot(df['price'], stat='probability', bins=20)"
   ]
  },
  {
   "cell_type": "code",
   "execution_count": 12,
   "id": "2a583c39",
   "metadata": {},
   "outputs": [],
   "source": [
    "df_sample = df.sample(frac=0.01)"
   ]
  },
  {
   "cell_type": "code",
   "execution_count": 15,
   "id": "23cf6bad",
   "metadata": {},
   "outputs": [
    {
     "data": {
      "application/vnd.plotly.v1+json": {
       "config": {
        "plotlyServerURL": "https://plot.ly"
       },
       "data": [
        {
         "hovertemplate": "latitude=%{lat}<br>longitude=%{lon}<extra></extra>",
         "lat": [
          40.72226,
          40.67238,
          40.62845,
          40.71875,
          40.76464,
          40.68281,
          40.78413,
          40.71258,
          40.73917,
          40.77865,
          40.68167,
          40.66934,
          40.7175,
          40.74174,
          40.76042,
          40.68771,
          40.70325,
          40.75207,
          40.67966,
          40.66562,
          40.87494,
          40.80034,
          40.75555,
          40.7989,
          40.69406,
          40.80156,
          40.72054,
          40.7163,
          40.70807,
          40.67652,
          40.78213,
          40.78318,
          40.77466,
          40.63535,
          40.82621,
          40.8078,
          40.66399,
          40.69533,
          40.70794,
          40.68386,
          40.64807,
          40.76088,
          40.82225,
          40.88445,
          40.89811,
          40.77711,
          40.81219,
          40.68797,
          40.72488,
          40.73388,
          40.69416,
          40.75597,
          40.67246,
          40.66205,
          40.65535,
          40.67138,
          40.8419,
          40.73081,
          40.7318,
          40.64535,
          40.68674,
          40.69906,
          40.71242,
          40.76986,
          40.72756,
          40.76686,
          40.71681,
          40.73048,
          40.70281,
          40.73674,
          40.77081,
          40.76852,
          40.69449,
          40.71662,
          40.68063,
          40.76128,
          40.72168,
          40.67877,
          40.77611,
          40.69881,
          40.75751,
          40.66209,
          40.73369,
          40.69526,
          40.73673,
          40.83871,
          40.76171,
          40.72913,
          40.72814,
          40.73683,
          40.85529,
          40.825,
          40.82008,
          40.69961,
          40.68695,
          40.69414,
          40.72525,
          40.76904,
          40.76151,
          40.7905,
          40.71259,
          40.69145,
          40.74786,
          40.74765,
          40.70451,
          40.63568,
          40.67378,
          40.64857,
          40.76535,
          40.73288,
          40.71229,
          40.77036,
          40.69072,
          40.75879,
          40.85634,
          40.74742,
          40.70828,
          40.68335,
          40.80735,
          40.72458,
          40.77481,
          40.67057,
          40.7062,
          40.68633,
          40.76276,
          40.7443,
          40.69403,
          40.71275,
          40.75741,
          40.72143,
          40.71231,
          40.62908,
          40.72554,
          40.83096,
          40.79957,
          40.72849,
          40.76707,
          40.67259,
          40.81368,
          40.78146,
          40.71882,
          40.68866,
          40.66818,
          40.78918,
          40.70501,
          40.77727,
          40.68232,
          40.68048,
          40.73216,
          40.76295,
          40.67853,
          40.75947,
          40.62168,
          40.80076,
          40.79496,
          40.76677,
          40.81536,
          40.80511,
          40.78201,
          40.71532,
          40.72112,
          40.7001,
          40.71052,
          40.69493,
          40.79891,
          40.7052,
          40.72936,
          40.7751,
          40.72447,
          40.68748,
          40.78609,
          40.73108,
          40.7425,
          40.67305,
          40.77768,
          40.78162,
          40.66719,
          40.69319,
          40.67252,
          40.80183,
          40.61422,
          40.74465,
          40.74336,
          40.74073,
          40.67692,
          40.69209,
          40.68265,
          40.70039,
          40.66602,
          40.76405,
          40.75832,
          40.70969,
          40.7078,
          40.69644,
          40.87724,
          40.73666,
          40.77176,
          40.66008,
          40.63112,
          40.71813,
          40.71727,
          40.73669,
          40.71626,
          40.72759,
          40.6921,
          40.73924,
          40.6885,
          40.68808,
          40.70474,
          40.81523,
          40.76567,
          40.68923,
          40.72135,
          40.69091,
          40.81915,
          40.84063,
          40.71364,
          40.75858,
          40.76215,
          40.74458,
          40.79837,
          40.69439,
          40.71998,
          40.77315,
          40.6983,
          40.80131,
          40.75219,
          40.79288,
          40.6604,
          40.71035,
          40.67125,
          40.82233,
          40.74433,
          40.64198,
          40.68416,
          40.71145,
          40.80891,
          40.70851,
          40.72895,
          40.7187,
          40.81377,
          40.73194,
          40.74616,
          40.66202,
          40.72392,
          40.71694,
          40.70412,
          40.7119,
          40.79433,
          40.74942,
          40.71263,
          40.71631,
          40.74975,
          40.77641,
          40.68587,
          40.74751,
          40.68272,
          40.74983,
          40.67734,
          40.75233,
          40.77953,
          40.74416,
          40.69032,
          40.81635,
          40.82749,
          40.72357,
          40.73528,
          40.71659,
          40.7631,
          40.83123,
          40.75976,
          40.80211,
          40.74047,
          40.76547,
          40.69994,
          40.66059,
          40.63324,
          40.68491,
          40.79873,
          40.68866,
          40.68537,
          40.72764,
          40.64693,
          40.71145,
          40.83048,
          40.69394,
          40.76407,
          40.69669,
          40.72325,
          40.74262,
          40.78234,
          40.72599,
          40.73571,
          40.72396,
          40.68956,
          40.71759,
          40.63948,
          40.69777,
          40.75796,
          40.70917,
          40.76169,
          40.67919,
          40.75831,
          40.78442,
          40.72343,
          40.7026,
          40.79843,
          40.74238,
          40.72618,
          40.67727,
          40.68727,
          40.74542,
          40.80446,
          40.75077,
          40.76389,
          40.70171,
          40.70254,
          40.76122,
          40.69823,
          40.77561,
          40.73318,
          40.72608,
          40.69616,
          40.75434,
          40.65295,
          40.68294,
          40.74601,
          40.67555,
          40.7572,
          40.66711,
          40.71845,
          40.77688,
          40.75245,
          40.71339,
          40.75864,
          40.71429,
          40.82645,
          40.71839,
          40.72804,
          40.72218,
          40.7416,
          40.80839,
          40.71145,
          40.81801,
          40.69383,
          40.6901,
          40.66621,
          40.71415,
          40.72388,
          40.7484,
          40.69974,
          40.6705,
          40.8027,
          40.75286,
          40.666,
          40.73343,
          40.75498,
          40.72207,
          40.71451,
          40.72818,
          40.7312,
          40.6877,
          40.81384,
          40.6809,
          40.83549,
          40.68552,
          40.60903,
          40.79578,
          40.73096,
          40.7612,
          40.64811,
          40.70545,
          40.75855,
          40.68482,
          40.75903,
          40.70567,
          40.80556,
          40.67396,
          40.64621,
          40.76751,
          40.741,
          40.71426,
          40.66059,
          40.63032,
          40.76835,
          40.6779,
          40.71286,
          40.7601,
          40.59382,
          40.72653,
          40.70159,
          40.7287,
          40.67693,
          40.69593,
          40.6864,
          40.79469,
          40.75261,
          40.76858,
          40.77179,
          40.77039,
          40.69707,
          40.6553,
          40.69937,
          40.65329,
          40.75644,
          40.72016,
          40.69288,
          40.67321,
          40.73444,
          40.61466,
          40.66313,
          40.73256,
          40.749,
          40.69969,
          40.72449,
          40.82345,
          40.68464,
          40.58822,
          40.68176,
          40.74383,
          40.62972,
          40.70706,
          40.75164,
          40.71603,
          40.72503,
          40.72736,
          40.65609,
          40.65907,
          40.85129,
          40.72992,
          40.71355,
          40.82039,
          40.649,
          40.69454,
          40.58906,
          40.7409,
          40.76327,
          40.72706,
          40.67535,
          40.69481,
          40.58845,
          40.80108,
          40.7717,
          40.8154,
          40.66485,
          40.78689,
          40.6756,
          40.71391,
          40.67488,
          40.68282,
          40.76381,
          40.72454,
          40.75953,
          40.65886,
          40.66678,
          40.68368,
          40.67595,
          40.68313,
          40.81865,
          40.82128,
          40.76068,
          40.76557,
          40.68216,
          40.68463,
          40.71787,
          40.82869,
          40.71113,
          40.85519,
          40.65309,
          40.71313,
          40.76605,
          40.70258,
          40.76408,
          40.80954,
          40.73473,
          40.69564,
          40.77766,
          40.69494,
          40.66957,
          40.74624,
          40.70175,
          40.69196,
          40.71808,
          40.68695,
          40.77601,
          40.69538,
          40.76591,
          40.65255,
          40.69565
         ],
         "legendgroup": "",
         "lon": [
          -73.95044,
          -73.95222,
          -74.12294,
          -73.96376,
          -73.98749,
          -73.93524,
          -73.97779,
          -73.96392,
          -73.86362,
          -73.94858,
          -73.93608,
          -73.77269,
          -73.98435,
          -73.90817,
          -73.92073,
          -73.92281,
          -73.91349,
          -73.97201,
          -73.89028,
          -73.93201,
          -73.91057,
          -73.95941,
          -73.76515,
          -73.96775,
          -73.95665,
          -73.95128,
          -73.95919,
          -73.94394,
          -73.92113,
          -73.96147,
          -73.94839,
          -73.97372,
          -73.94748,
          -73.89493,
          -73.94549,
          -73.95208,
          -73.98301,
          -73.92053,
          -73.93976,
          -73.96813,
          -73.96625,
          -73.9923,
          -73.94549,
          -73.89663,
          -73.85543,
          -73.9527,
          -73.94499,
          -73.83351,
          -73.97996,
          -73.99452,
          -73.94528,
          -73.99457,
          -73.99164,
          -73.96301,
          -73.74449,
          -73.96058,
          -73.93866,
          -73.98876,
          -73.95307,
          -73.9738,
          -74.00073,
          -73.92431,
          -73.95919,
          -73.98673,
          -73.71795,
          -73.9239,
          -73.9408,
          -73.98269,
          -73.94328,
          -73.98308,
          -73.95216,
          -73.96245,
          -73.91156,
          -74.00352,
          -73.97334,
          -73.96236,
          -73.98686,
          -73.89228,
          -73.90818,
          -73.93129,
          -73.99112,
          -73.93947,
          -73.95197,
          -73.95119,
          -73.92526,
          -73.9468,
          -73.99793,
          -74.00074,
          -73.98018,
          -73.97926,
          -73.9398,
          -73.95181,
          -73.95523,
          -73.92132,
          -73.92947,
          -73.93292,
          -73.98691,
          -73.95902,
          -73.97894,
          -73.97385,
          -73.99897,
          -73.92152,
          -73.94628,
          -73.89445,
          -73.92588,
          -74.07826,
          -73.98299,
          -73.94407,
          -73.98765,
          -73.86438,
          -73.95782,
          -73.92191,
          -73.91891,
          -73.9638,
          -73.86633,
          -73.94647,
          -73.94572,
          -73.91222,
          -73.95938,
          -73.98822,
          -73.95641,
          -73.77869,
          -74.01092,
          -73.92728,
          -73.92508,
          -73.97925,
          -73.91991,
          -73.96049,
          -73.96372,
          -73.98117,
          -73.99257,
          -73.95965,
          -73.98245,
          -73.94633,
          -73.94212,
          -73.98576,
          -73.91473,
          -73.98452,
          -73.95942,
          -73.97845,
          -73.99652,
          -73.96147,
          -73.73399,
          -73.97927,
          -74.00707,
          -73.98355,
          -73.92746,
          -73.90787,
          -73.98937,
          -73.98435,
          -73.91142,
          -73.99335,
          -74.03023,
          -73.96236,
          -73.97349,
          -73.9171,
          -73.96246,
          -73.96572,
          -73.98379,
          -73.95352,
          -73.98493,
          -73.91204,
          -73.80906,
          -73.92276,
          -73.96705,
          -73.94397,
          -73.97882,
          -73.95294,
          -73.94458,
          -73.97397,
          -73.95341,
          -74.00114,
          -73.97704,
          -73.94533,
          -73.94951,
          -73.97941,
          -73.98361,
          -73.90547,
          -73.96154,
          -73.96542,
          -74.13167,
          -73.9955,
          -73.97143,
          -73.87591,
          -73.94038,
          -73.98499,
          -73.97754,
          -73.75233,
          -73.94612,
          -73.99004,
          -73.91448,
          -74.00575,
          -74.00914,
          -73.91995,
          -73.85047,
          -74.00691,
          -73.90885,
          -73.92122,
          -73.99532,
          -73.8386,
          -73.94821,
          -74.001,
          -73.95795,
          -73.98786,
          -73.96797,
          -73.99825,
          -73.99526,
          -73.90985,
          -73.9162,
          -73.9463,
          -73.98308,
          -73.92682,
          -73.98391,
          -73.93667,
          -73.9425,
          -73.93928,
          -73.99153,
          -73.96342,
          -73.91973,
          -73.94102,
          -73.96061,
          -73.97319,
          -73.96141,
          -73.9075,
          -73.92607,
          -73.96596,
          -73.97133,
          -73.9723,
          -73.98316,
          -73.94774,
          -73.95782,
          -73.93779,
          -73.97416,
          -74.01809,
          -73.9551,
          -73.95887,
          -73.94247,
          -73.94197,
          -73.9934,
          -73.95606,
          -73.88933,
          -74.00369,
          -73.94653,
          -73.98589,
          -73.98719,
          -73.98218,
          -73.90171,
          -73.96377,
          -73.97333,
          -73.99536,
          -73.9581,
          -73.99694,
          -73.9961,
          -73.94616,
          -73.92094,
          -73.99483,
          -73.92555,
          -73.98646,
          -73.96814,
          -73.9941,
          -73.98421,
          -73.91137,
          -73.92437,
          -73.94467,
          -73.9382,
          -73.95057,
          -73.99744,
          -74.00653,
          -73.92936,
          -73.82784,
          -73.9955,
          -73.94573,
          -73.98932,
          -73.97729,
          -73.93299,
          -73.99361,
          -73.99461,
          -73.93399,
          -73.96782,
          -73.92238,
          -73.95402,
          -73.95557,
          -73.95944,
          -73.95302,
          -73.95009,
          -73.95183,
          -73.98868,
          -73.92785,
          -73.98776,
          -73.87907,
          -73.94907,
          -73.94172,
          -74.0078,
          -73.98941,
          -73.9432,
          -73.9842,
          -73.95008,
          -73.92252,
          -73.99522,
          -73.93513,
          -73.98839,
          -73.90684,
          -73.82776,
          -73.91339,
          -74.00791,
          -73.92787,
          -73.96404,
          -73.91783,
          -73.99523,
          -73.9838,
          -73.98956,
          -74.00133,
          -73.95567,
          -73.80676,
          -73.96808,
          -73.91344,
          -73.8322,
          -73.98655,
          -73.9431,
          -73.95213,
          -74.00745,
          -73.82038,
          -73.93438,
          -73.96569,
          -73.9463,
          -73.93742,
          -73.97823,
          -73.95057,
          -73.99482,
          -73.9375,
          -74.01183,
          -73.95505,
          -73.97342,
          -73.98926,
          -73.98197,
          -73.85088,
          -73.94426,
          -73.94329,
          -73.98867,
          -73.93894,
          -73.99782,
          -73.95269,
          -73.96749,
          -73.93855,
          -73.90837,
          -73.99523,
          -73.92073,
          -73.94867,
          -73.98411,
          -73.94651,
          -73.91935,
          -73.87851,
          -73.91563,
          -74.00162,
          -73.9902,
          -73.95638,
          -73.83423,
          -73.94226,
          -73.95068,
          -73.9981,
          -73.78579,
          -73.93146,
          -73.90514,
          -73.99233,
          -73.93968,
          -73.93581,
          -73.91846,
          -73.94523,
          -74.00319,
          -73.98886,
          -74.01366,
          -73.90393,
          -73.91021,
          -73.95666,
          -73.92943,
          -73.92359,
          -73.95497,
          -73.96083,
          -73.96208,
          -73.96309,
          -73.88019,
          -73.99175,
          -73.95842,
          -73.9936,
          -73.95837,
          -73.96393,
          -73.98437,
          -73.97042,
          -73.75503,
          -73.97949,
          -73.9801,
          -73.99184,
          -73.96517,
          -73.97003,
          -73.91858,
          -73.96687,
          -73.97063,
          -73.9847,
          -73.95585,
          -73.92626,
          -73.99632,
          -73.95816,
          -73.91463,
          -73.96156,
          -73.93486,
          -73.98968,
          -73.96592,
          -73.95386,
          -74.00129,
          -74.00504,
          -73.92684,
          -73.98558,
          -73.99466,
          -73.92867,
          -73.98384,
          -73.9033,
          -73.95002,
          -73.81299,
          -73.92883,
          -73.98286,
          -74.12539,
          -74.00442,
          -73.98042,
          -73.9409,
          -73.98466,
          -74.00192,
          -73.95781,
          -73.99887,
          -73.92954,
          -73.95628,
          -73.95003,
          -73.94402,
          -73.95248,
          -73.99499,
          -73.79503,
          -73.92696,
          -73.96197,
          -74.00476,
          -73.97654,
          -73.92244,
          -73.79514,
          -73.94602,
          -73.98759,
          -73.81551,
          -73.98838,
          -73.97314,
          -73.95644,
          -74.00624,
          -73.96692,
          -73.98112,
          -73.87748,
          -73.98749,
          -73.91182,
          -73.99054,
          -73.97709,
          -73.92623,
          -73.97635,
          -73.92833,
          -73.93684,
          -73.93909,
          -73.82233,
          -73.98384,
          -73.90642,
          -73.90729,
          -73.9964,
          -73.94468,
          -73.95675,
          -73.82932,
          -73.95523,
          -74.00681,
          -73.908,
          -73.92466,
          -73.92461,
          -73.93934,
          -73.95229,
          -73.99691,
          -73.9561,
          -73.91298,
          -73.94804,
          -73.9725,
          -73.91525,
          -73.95969,
          -73.95859,
          -73.94858,
          -73.95114,
          -73.94657,
          -73.98717,
          -73.9568,
          -73.9711
         ],
         "marker": {
          "color": "#636efa"
         },
         "mode": "markers",
         "name": "",
         "showlegend": false,
         "subplot": "mapbox",
         "type": "scattermapbox"
        }
       ],
       "layout": {
        "legend": {
         "tracegroupgap": 0
        },
        "mapbox": {
         "center": {
          "lat": 40.72796380368102,
          "lon": -73.95015885480579
         },
         "domain": {
          "x": [
           0,
           1
          ],
          "y": [
           0,
           1
          ]
         },
         "style": "open-street-map",
         "zoom": 8
        },
        "margin": {
         "t": 60
        },
        "template": {
         "data": {
          "bar": [
           {
            "error_x": {
             "color": "#2a3f5f"
            },
            "error_y": {
             "color": "#2a3f5f"
            },
            "marker": {
             "line": {
              "color": "#E5ECF6",
              "width": 0.5
             },
             "pattern": {
              "fillmode": "overlay",
              "size": 10,
              "solidity": 0.2
             }
            },
            "type": "bar"
           }
          ],
          "barpolar": [
           {
            "marker": {
             "line": {
              "color": "#E5ECF6",
              "width": 0.5
             },
             "pattern": {
              "fillmode": "overlay",
              "size": 10,
              "solidity": 0.2
             }
            },
            "type": "barpolar"
           }
          ],
          "carpet": [
           {
            "aaxis": {
             "endlinecolor": "#2a3f5f",
             "gridcolor": "white",
             "linecolor": "white",
             "minorgridcolor": "white",
             "startlinecolor": "#2a3f5f"
            },
            "baxis": {
             "endlinecolor": "#2a3f5f",
             "gridcolor": "white",
             "linecolor": "white",
             "minorgridcolor": "white",
             "startlinecolor": "#2a3f5f"
            },
            "type": "carpet"
           }
          ],
          "choropleth": [
           {
            "colorbar": {
             "outlinewidth": 0,
             "ticks": ""
            },
            "type": "choropleth"
           }
          ],
          "contour": [
           {
            "colorbar": {
             "outlinewidth": 0,
             "ticks": ""
            },
            "colorscale": [
             [
              0,
              "#0d0887"
             ],
             [
              0.1111111111111111,
              "#46039f"
             ],
             [
              0.2222222222222222,
              "#7201a8"
             ],
             [
              0.3333333333333333,
              "#9c179e"
             ],
             [
              0.4444444444444444,
              "#bd3786"
             ],
             [
              0.5555555555555556,
              "#d8576b"
             ],
             [
              0.6666666666666666,
              "#ed7953"
             ],
             [
              0.7777777777777778,
              "#fb9f3a"
             ],
             [
              0.8888888888888888,
              "#fdca26"
             ],
             [
              1,
              "#f0f921"
             ]
            ],
            "type": "contour"
           }
          ],
          "contourcarpet": [
           {
            "colorbar": {
             "outlinewidth": 0,
             "ticks": ""
            },
            "type": "contourcarpet"
           }
          ],
          "heatmap": [
           {
            "colorbar": {
             "outlinewidth": 0,
             "ticks": ""
            },
            "colorscale": [
             [
              0,
              "#0d0887"
             ],
             [
              0.1111111111111111,
              "#46039f"
             ],
             [
              0.2222222222222222,
              "#7201a8"
             ],
             [
              0.3333333333333333,
              "#9c179e"
             ],
             [
              0.4444444444444444,
              "#bd3786"
             ],
             [
              0.5555555555555556,
              "#d8576b"
             ],
             [
              0.6666666666666666,
              "#ed7953"
             ],
             [
              0.7777777777777778,
              "#fb9f3a"
             ],
             [
              0.8888888888888888,
              "#fdca26"
             ],
             [
              1,
              "#f0f921"
             ]
            ],
            "type": "heatmap"
           }
          ],
          "heatmapgl": [
           {
            "colorbar": {
             "outlinewidth": 0,
             "ticks": ""
            },
            "colorscale": [
             [
              0,
              "#0d0887"
             ],
             [
              0.1111111111111111,
              "#46039f"
             ],
             [
              0.2222222222222222,
              "#7201a8"
             ],
             [
              0.3333333333333333,
              "#9c179e"
             ],
             [
              0.4444444444444444,
              "#bd3786"
             ],
             [
              0.5555555555555556,
              "#d8576b"
             ],
             [
              0.6666666666666666,
              "#ed7953"
             ],
             [
              0.7777777777777778,
              "#fb9f3a"
             ],
             [
              0.8888888888888888,
              "#fdca26"
             ],
             [
              1,
              "#f0f921"
             ]
            ],
            "type": "heatmapgl"
           }
          ],
          "histogram": [
           {
            "marker": {
             "pattern": {
              "fillmode": "overlay",
              "size": 10,
              "solidity": 0.2
             }
            },
            "type": "histogram"
           }
          ],
          "histogram2d": [
           {
            "colorbar": {
             "outlinewidth": 0,
             "ticks": ""
            },
            "colorscale": [
             [
              0,
              "#0d0887"
             ],
             [
              0.1111111111111111,
              "#46039f"
             ],
             [
              0.2222222222222222,
              "#7201a8"
             ],
             [
              0.3333333333333333,
              "#9c179e"
             ],
             [
              0.4444444444444444,
              "#bd3786"
             ],
             [
              0.5555555555555556,
              "#d8576b"
             ],
             [
              0.6666666666666666,
              "#ed7953"
             ],
             [
              0.7777777777777778,
              "#fb9f3a"
             ],
             [
              0.8888888888888888,
              "#fdca26"
             ],
             [
              1,
              "#f0f921"
             ]
            ],
            "type": "histogram2d"
           }
          ],
          "histogram2dcontour": [
           {
            "colorbar": {
             "outlinewidth": 0,
             "ticks": ""
            },
            "colorscale": [
             [
              0,
              "#0d0887"
             ],
             [
              0.1111111111111111,
              "#46039f"
             ],
             [
              0.2222222222222222,
              "#7201a8"
             ],
             [
              0.3333333333333333,
              "#9c179e"
             ],
             [
              0.4444444444444444,
              "#bd3786"
             ],
             [
              0.5555555555555556,
              "#d8576b"
             ],
             [
              0.6666666666666666,
              "#ed7953"
             ],
             [
              0.7777777777777778,
              "#fb9f3a"
             ],
             [
              0.8888888888888888,
              "#fdca26"
             ],
             [
              1,
              "#f0f921"
             ]
            ],
            "type": "histogram2dcontour"
           }
          ],
          "mesh3d": [
           {
            "colorbar": {
             "outlinewidth": 0,
             "ticks": ""
            },
            "type": "mesh3d"
           }
          ],
          "parcoords": [
           {
            "line": {
             "colorbar": {
              "outlinewidth": 0,
              "ticks": ""
             }
            },
            "type": "parcoords"
           }
          ],
          "pie": [
           {
            "automargin": true,
            "type": "pie"
           }
          ],
          "scatter": [
           {
            "fillpattern": {
             "fillmode": "overlay",
             "size": 10,
             "solidity": 0.2
            },
            "type": "scatter"
           }
          ],
          "scatter3d": [
           {
            "line": {
             "colorbar": {
              "outlinewidth": 0,
              "ticks": ""
             }
            },
            "marker": {
             "colorbar": {
              "outlinewidth": 0,
              "ticks": ""
             }
            },
            "type": "scatter3d"
           }
          ],
          "scattercarpet": [
           {
            "marker": {
             "colorbar": {
              "outlinewidth": 0,
              "ticks": ""
             }
            },
            "type": "scattercarpet"
           }
          ],
          "scattergeo": [
           {
            "marker": {
             "colorbar": {
              "outlinewidth": 0,
              "ticks": ""
             }
            },
            "type": "scattergeo"
           }
          ],
          "scattergl": [
           {
            "marker": {
             "colorbar": {
              "outlinewidth": 0,
              "ticks": ""
             }
            },
            "type": "scattergl"
           }
          ],
          "scattermapbox": [
           {
            "marker": {
             "colorbar": {
              "outlinewidth": 0,
              "ticks": ""
             }
            },
            "type": "scattermapbox"
           }
          ],
          "scatterpolar": [
           {
            "marker": {
             "colorbar": {
              "outlinewidth": 0,
              "ticks": ""
             }
            },
            "type": "scatterpolar"
           }
          ],
          "scatterpolargl": [
           {
            "marker": {
             "colorbar": {
              "outlinewidth": 0,
              "ticks": ""
             }
            },
            "type": "scatterpolargl"
           }
          ],
          "scatterternary": [
           {
            "marker": {
             "colorbar": {
              "outlinewidth": 0,
              "ticks": ""
             }
            },
            "type": "scatterternary"
           }
          ],
          "surface": [
           {
            "colorbar": {
             "outlinewidth": 0,
             "ticks": ""
            },
            "colorscale": [
             [
              0,
              "#0d0887"
             ],
             [
              0.1111111111111111,
              "#46039f"
             ],
             [
              0.2222222222222222,
              "#7201a8"
             ],
             [
              0.3333333333333333,
              "#9c179e"
             ],
             [
              0.4444444444444444,
              "#bd3786"
             ],
             [
              0.5555555555555556,
              "#d8576b"
             ],
             [
              0.6666666666666666,
              "#ed7953"
             ],
             [
              0.7777777777777778,
              "#fb9f3a"
             ],
             [
              0.8888888888888888,
              "#fdca26"
             ],
             [
              1,
              "#f0f921"
             ]
            ],
            "type": "surface"
           }
          ],
          "table": [
           {
            "cells": {
             "fill": {
              "color": "#EBF0F8"
             },
             "line": {
              "color": "white"
             }
            },
            "header": {
             "fill": {
              "color": "#C8D4E3"
             },
             "line": {
              "color": "white"
             }
            },
            "type": "table"
           }
          ]
         },
         "layout": {
          "annotationdefaults": {
           "arrowcolor": "#2a3f5f",
           "arrowhead": 0,
           "arrowwidth": 1
          },
          "autotypenumbers": "strict",
          "coloraxis": {
           "colorbar": {
            "outlinewidth": 0,
            "ticks": ""
           }
          },
          "colorscale": {
           "diverging": [
            [
             0,
             "#8e0152"
            ],
            [
             0.1,
             "#c51b7d"
            ],
            [
             0.2,
             "#de77ae"
            ],
            [
             0.3,
             "#f1b6da"
            ],
            [
             0.4,
             "#fde0ef"
            ],
            [
             0.5,
             "#f7f7f7"
            ],
            [
             0.6,
             "#e6f5d0"
            ],
            [
             0.7,
             "#b8e186"
            ],
            [
             0.8,
             "#7fbc41"
            ],
            [
             0.9,
             "#4d9221"
            ],
            [
             1,
             "#276419"
            ]
           ],
           "sequential": [
            [
             0,
             "#0d0887"
            ],
            [
             0.1111111111111111,
             "#46039f"
            ],
            [
             0.2222222222222222,
             "#7201a8"
            ],
            [
             0.3333333333333333,
             "#9c179e"
            ],
            [
             0.4444444444444444,
             "#bd3786"
            ],
            [
             0.5555555555555556,
             "#d8576b"
            ],
            [
             0.6666666666666666,
             "#ed7953"
            ],
            [
             0.7777777777777778,
             "#fb9f3a"
            ],
            [
             0.8888888888888888,
             "#fdca26"
            ],
            [
             1,
             "#f0f921"
            ]
           ],
           "sequentialminus": [
            [
             0,
             "#0d0887"
            ],
            [
             0.1111111111111111,
             "#46039f"
            ],
            [
             0.2222222222222222,
             "#7201a8"
            ],
            [
             0.3333333333333333,
             "#9c179e"
            ],
            [
             0.4444444444444444,
             "#bd3786"
            ],
            [
             0.5555555555555556,
             "#d8576b"
            ],
            [
             0.6666666666666666,
             "#ed7953"
            ],
            [
             0.7777777777777778,
             "#fb9f3a"
            ],
            [
             0.8888888888888888,
             "#fdca26"
            ],
            [
             1,
             "#f0f921"
            ]
           ]
          },
          "colorway": [
           "#636efa",
           "#EF553B",
           "#00cc96",
           "#ab63fa",
           "#FFA15A",
           "#19d3f3",
           "#FF6692",
           "#B6E880",
           "#FF97FF",
           "#FECB52"
          ],
          "font": {
           "color": "#2a3f5f"
          },
          "geo": {
           "bgcolor": "white",
           "lakecolor": "white",
           "landcolor": "#E5ECF6",
           "showlakes": true,
           "showland": true,
           "subunitcolor": "white"
          },
          "hoverlabel": {
           "align": "left"
          },
          "hovermode": "closest",
          "mapbox": {
           "style": "light"
          },
          "paper_bgcolor": "white",
          "plot_bgcolor": "#E5ECF6",
          "polar": {
           "angularaxis": {
            "gridcolor": "white",
            "linecolor": "white",
            "ticks": ""
           },
           "bgcolor": "#E5ECF6",
           "radialaxis": {
            "gridcolor": "white",
            "linecolor": "white",
            "ticks": ""
           }
          },
          "scene": {
           "xaxis": {
            "backgroundcolor": "#E5ECF6",
            "gridcolor": "white",
            "gridwidth": 2,
            "linecolor": "white",
            "showbackground": true,
            "ticks": "",
            "zerolinecolor": "white"
           },
           "yaxis": {
            "backgroundcolor": "#E5ECF6",
            "gridcolor": "white",
            "gridwidth": 2,
            "linecolor": "white",
            "showbackground": true,
            "ticks": "",
            "zerolinecolor": "white"
           },
           "zaxis": {
            "backgroundcolor": "#E5ECF6",
            "gridcolor": "white",
            "gridwidth": 2,
            "linecolor": "white",
            "showbackground": true,
            "ticks": "",
            "zerolinecolor": "white"
           }
          },
          "shapedefaults": {
           "line": {
            "color": "#2a3f5f"
           }
          },
          "ternary": {
           "aaxis": {
            "gridcolor": "white",
            "linecolor": "white",
            "ticks": ""
           },
           "baxis": {
            "gridcolor": "white",
            "linecolor": "white",
            "ticks": ""
           },
           "bgcolor": "#E5ECF6",
           "caxis": {
            "gridcolor": "white",
            "linecolor": "white",
            "ticks": ""
           }
          },
          "title": {
           "x": 0.05
          },
          "xaxis": {
           "automargin": true,
           "gridcolor": "white",
           "linecolor": "white",
           "ticks": "",
           "title": {
            "standoff": 15
           },
           "zerolinecolor": "white",
           "zerolinewidth": 2
          },
          "yaxis": {
           "automargin": true,
           "gridcolor": "white",
           "linecolor": "white",
           "ticks": "",
           "title": {
            "standoff": 15
           },
           "zerolinecolor": "white",
           "zerolinewidth": 2
          }
         }
        }
       }
      },
      "text/html": [
       "<div>                            <div id=\"7c9370a1-cc69-4b48-a3e8-47d06efc108a\" class=\"plotly-graph-div\" style=\"height:525px; width:100%;\"></div>            <script type=\"text/javascript\">                require([\"plotly\"], function(Plotly) {                    window.PLOTLYENV=window.PLOTLYENV || {};                                    if (document.getElementById(\"7c9370a1-cc69-4b48-a3e8-47d06efc108a\")) {                    Plotly.newPlot(                        \"7c9370a1-cc69-4b48-a3e8-47d06efc108a\",                        [{\"hovertemplate\":\"latitude=%{lat}<br>longitude=%{lon}<extra></extra>\",\"lat\":[40.72226,40.67238,40.62845,40.71875,40.76464,40.68281,40.78413,40.71258,40.73917,40.77865,40.68167,40.66934,40.7175,40.74174,40.76042,40.68771,40.70325,40.75207,40.67966,40.66562,40.87494,40.80034,40.75555,40.7989,40.69406,40.80156,40.72054,40.7163,40.70807,40.67652,40.78213,40.78318,40.77466,40.63535,40.82621,40.8078,40.66399,40.69533,40.70794,40.68386,40.64807,40.76088,40.82225,40.88445,40.89811,40.77711,40.81219,40.68797,40.72488,40.73388,40.69416,40.75597,40.67246,40.66205,40.65535,40.67138,40.8419,40.73081,40.7318,40.64535,40.68674,40.69906,40.71242,40.76986,40.72756,40.76686,40.71681,40.73048,40.70281,40.73674,40.77081,40.76852,40.69449,40.71662,40.68063,40.76128,40.72168,40.67877,40.77611,40.69881,40.75751,40.66209,40.73369,40.69526,40.73673,40.83871,40.76171,40.72913,40.72814,40.73683,40.85529,40.825,40.82008,40.69961,40.68695,40.69414,40.72525,40.76904,40.76151,40.7905,40.71259,40.69145,40.74786,40.74765,40.70451,40.63568,40.67378,40.64857,40.76535,40.73288,40.71229,40.77036,40.69072,40.75879,40.85634,40.74742,40.70828,40.68335,40.80735,40.72458,40.77481,40.67057,40.7062,40.68633,40.76276,40.7443,40.69403,40.71275,40.75741,40.72143,40.71231,40.62908,40.72554,40.83096,40.79957,40.72849,40.76707,40.67259,40.81368,40.78146,40.71882,40.68866,40.66818,40.78918,40.70501,40.77727,40.68232,40.68048,40.73216,40.76295,40.67853,40.75947,40.62168,40.80076,40.79496,40.76677,40.81536,40.80511,40.78201,40.71532,40.72112,40.7001,40.71052,40.69493,40.79891,40.7052,40.72936,40.7751,40.72447,40.68748,40.78609,40.73108,40.7425,40.67305,40.77768,40.78162,40.66719,40.69319,40.67252,40.80183,40.61422,40.74465,40.74336,40.74073,40.67692,40.69209,40.68265,40.70039,40.66602,40.76405,40.75832,40.70969,40.7078,40.69644,40.87724,40.73666,40.77176,40.66008,40.63112,40.71813,40.71727,40.73669,40.71626,40.72759,40.6921,40.73924,40.6885,40.68808,40.70474,40.81523,40.76567,40.68923,40.72135,40.69091,40.81915,40.84063,40.71364,40.75858,40.76215,40.74458,40.79837,40.69439,40.71998,40.77315,40.6983,40.80131,40.75219,40.79288,40.6604,40.71035,40.67125,40.82233,40.74433,40.64198,40.68416,40.71145,40.80891,40.70851,40.72895,40.7187,40.81377,40.73194,40.74616,40.66202,40.72392,40.71694,40.70412,40.7119,40.79433,40.74942,40.71263,40.71631,40.74975,40.77641,40.68587,40.74751,40.68272,40.74983,40.67734,40.75233,40.77953,40.74416,40.69032,40.81635,40.82749,40.72357,40.73528,40.71659,40.7631,40.83123,40.75976,40.80211,40.74047,40.76547,40.69994,40.66059,40.63324,40.68491,40.79873,40.68866,40.68537,40.72764,40.64693,40.71145,40.83048,40.69394,40.76407,40.69669,40.72325,40.74262,40.78234,40.72599,40.73571,40.72396,40.68956,40.71759,40.63948,40.69777,40.75796,40.70917,40.76169,40.67919,40.75831,40.78442,40.72343,40.7026,40.79843,40.74238,40.72618,40.67727,40.68727,40.74542,40.80446,40.75077,40.76389,40.70171,40.70254,40.76122,40.69823,40.77561,40.73318,40.72608,40.69616,40.75434,40.65295,40.68294,40.74601,40.67555,40.7572,40.66711,40.71845,40.77688,40.75245,40.71339,40.75864,40.71429,40.82645,40.71839,40.72804,40.72218,40.7416,40.80839,40.71145,40.81801,40.69383,40.6901,40.66621,40.71415,40.72388,40.7484,40.69974,40.6705,40.8027,40.75286,40.666,40.73343,40.75498,40.72207,40.71451,40.72818,40.7312,40.6877,40.81384,40.6809,40.83549,40.68552,40.60903,40.79578,40.73096,40.7612,40.64811,40.70545,40.75855,40.68482,40.75903,40.70567,40.80556,40.67396,40.64621,40.76751,40.741,40.71426,40.66059,40.63032,40.76835,40.6779,40.71286,40.7601,40.59382,40.72653,40.70159,40.7287,40.67693,40.69593,40.6864,40.79469,40.75261,40.76858,40.77179,40.77039,40.69707,40.6553,40.69937,40.65329,40.75644,40.72016,40.69288,40.67321,40.73444,40.61466,40.66313,40.73256,40.749,40.69969,40.72449,40.82345,40.68464,40.58822,40.68176,40.74383,40.62972,40.70706,40.75164,40.71603,40.72503,40.72736,40.65609,40.65907,40.85129,40.72992,40.71355,40.82039,40.649,40.69454,40.58906,40.7409,40.76327,40.72706,40.67535,40.69481,40.58845,40.80108,40.7717,40.8154,40.66485,40.78689,40.6756,40.71391,40.67488,40.68282,40.76381,40.72454,40.75953,40.65886,40.66678,40.68368,40.67595,40.68313,40.81865,40.82128,40.76068,40.76557,40.68216,40.68463,40.71787,40.82869,40.71113,40.85519,40.65309,40.71313,40.76605,40.70258,40.76408,40.80954,40.73473,40.69564,40.77766,40.69494,40.66957,40.74624,40.70175,40.69196,40.71808,40.68695,40.77601,40.69538,40.76591,40.65255,40.69565],\"legendgroup\":\"\",\"lon\":[-73.95044,-73.95222,-74.12294,-73.96376,-73.98749,-73.93524,-73.97779,-73.96392,-73.86362,-73.94858,-73.93608,-73.77269,-73.98435,-73.90817,-73.92073,-73.92281,-73.91349,-73.97201,-73.89028,-73.93201,-73.91057,-73.95941,-73.76515,-73.96775,-73.95665,-73.95128,-73.95919,-73.94394,-73.92113,-73.96147,-73.94839,-73.97372,-73.94748,-73.89493,-73.94549,-73.95208,-73.98301,-73.92053,-73.93976,-73.96813,-73.96625,-73.9923,-73.94549,-73.89663,-73.85543,-73.9527,-73.94499,-73.83351,-73.97996,-73.99452,-73.94528,-73.99457,-73.99164,-73.96301,-73.74449,-73.96058,-73.93866,-73.98876,-73.95307,-73.9738,-74.00073,-73.92431,-73.95919,-73.98673,-73.71795,-73.9239,-73.9408,-73.98269,-73.94328,-73.98308,-73.95216,-73.96245,-73.91156,-74.00352,-73.97334,-73.96236,-73.98686,-73.89228,-73.90818,-73.93129,-73.99112,-73.93947,-73.95197,-73.95119,-73.92526,-73.9468,-73.99793,-74.00074,-73.98018,-73.97926,-73.9398,-73.95181,-73.95523,-73.92132,-73.92947,-73.93292,-73.98691,-73.95902,-73.97894,-73.97385,-73.99897,-73.92152,-73.94628,-73.89445,-73.92588,-74.07826,-73.98299,-73.94407,-73.98765,-73.86438,-73.95782,-73.92191,-73.91891,-73.9638,-73.86633,-73.94647,-73.94572,-73.91222,-73.95938,-73.98822,-73.95641,-73.77869,-74.01092,-73.92728,-73.92508,-73.97925,-73.91991,-73.96049,-73.96372,-73.98117,-73.99257,-73.95965,-73.98245,-73.94633,-73.94212,-73.98576,-73.91473,-73.98452,-73.95942,-73.97845,-73.99652,-73.96147,-73.73399,-73.97927,-74.00707,-73.98355,-73.92746,-73.90787,-73.98937,-73.98435,-73.91142,-73.99335,-74.03023,-73.96236,-73.97349,-73.9171,-73.96246,-73.96572,-73.98379,-73.95352,-73.98493,-73.91204,-73.80906,-73.92276,-73.96705,-73.94397,-73.97882,-73.95294,-73.94458,-73.97397,-73.95341,-74.00114,-73.97704,-73.94533,-73.94951,-73.97941,-73.98361,-73.90547,-73.96154,-73.96542,-74.13167,-73.9955,-73.97143,-73.87591,-73.94038,-73.98499,-73.97754,-73.75233,-73.94612,-73.99004,-73.91448,-74.00575,-74.00914,-73.91995,-73.85047,-74.00691,-73.90885,-73.92122,-73.99532,-73.8386,-73.94821,-74.001,-73.95795,-73.98786,-73.96797,-73.99825,-73.99526,-73.90985,-73.9162,-73.9463,-73.98308,-73.92682,-73.98391,-73.93667,-73.9425,-73.93928,-73.99153,-73.96342,-73.91973,-73.94102,-73.96061,-73.97319,-73.96141,-73.9075,-73.92607,-73.96596,-73.97133,-73.9723,-73.98316,-73.94774,-73.95782,-73.93779,-73.97416,-74.01809,-73.9551,-73.95887,-73.94247,-73.94197,-73.9934,-73.95606,-73.88933,-74.00369,-73.94653,-73.98589,-73.98719,-73.98218,-73.90171,-73.96377,-73.97333,-73.99536,-73.9581,-73.99694,-73.9961,-73.94616,-73.92094,-73.99483,-73.92555,-73.98646,-73.96814,-73.9941,-73.98421,-73.91137,-73.92437,-73.94467,-73.9382,-73.95057,-73.99744,-74.00653,-73.92936,-73.82784,-73.9955,-73.94573,-73.98932,-73.97729,-73.93299,-73.99361,-73.99461,-73.93399,-73.96782,-73.92238,-73.95402,-73.95557,-73.95944,-73.95302,-73.95009,-73.95183,-73.98868,-73.92785,-73.98776,-73.87907,-73.94907,-73.94172,-74.0078,-73.98941,-73.9432,-73.9842,-73.95008,-73.92252,-73.99522,-73.93513,-73.98839,-73.90684,-73.82776,-73.91339,-74.00791,-73.92787,-73.96404,-73.91783,-73.99523,-73.9838,-73.98956,-74.00133,-73.95567,-73.80676,-73.96808,-73.91344,-73.8322,-73.98655,-73.9431,-73.95213,-74.00745,-73.82038,-73.93438,-73.96569,-73.9463,-73.93742,-73.97823,-73.95057,-73.99482,-73.9375,-74.01183,-73.95505,-73.97342,-73.98926,-73.98197,-73.85088,-73.94426,-73.94329,-73.98867,-73.93894,-73.99782,-73.95269,-73.96749,-73.93855,-73.90837,-73.99523,-73.92073,-73.94867,-73.98411,-73.94651,-73.91935,-73.87851,-73.91563,-74.00162,-73.9902,-73.95638,-73.83423,-73.94226,-73.95068,-73.9981,-73.78579,-73.93146,-73.90514,-73.99233,-73.93968,-73.93581,-73.91846,-73.94523,-74.00319,-73.98886,-74.01366,-73.90393,-73.91021,-73.95666,-73.92943,-73.92359,-73.95497,-73.96083,-73.96208,-73.96309,-73.88019,-73.99175,-73.95842,-73.9936,-73.95837,-73.96393,-73.98437,-73.97042,-73.75503,-73.97949,-73.9801,-73.99184,-73.96517,-73.97003,-73.91858,-73.96687,-73.97063,-73.9847,-73.95585,-73.92626,-73.99632,-73.95816,-73.91463,-73.96156,-73.93486,-73.98968,-73.96592,-73.95386,-74.00129,-74.00504,-73.92684,-73.98558,-73.99466,-73.92867,-73.98384,-73.9033,-73.95002,-73.81299,-73.92883,-73.98286,-74.12539,-74.00442,-73.98042,-73.9409,-73.98466,-74.00192,-73.95781,-73.99887,-73.92954,-73.95628,-73.95003,-73.94402,-73.95248,-73.99499,-73.79503,-73.92696,-73.96197,-74.00476,-73.97654,-73.92244,-73.79514,-73.94602,-73.98759,-73.81551,-73.98838,-73.97314,-73.95644,-74.00624,-73.96692,-73.98112,-73.87748,-73.98749,-73.91182,-73.99054,-73.97709,-73.92623,-73.97635,-73.92833,-73.93684,-73.93909,-73.82233,-73.98384,-73.90642,-73.90729,-73.9964,-73.94468,-73.95675,-73.82932,-73.95523,-74.00681,-73.908,-73.92466,-73.92461,-73.93934,-73.95229,-73.99691,-73.9561,-73.91298,-73.94804,-73.9725,-73.91525,-73.95969,-73.95859,-73.94858,-73.95114,-73.94657,-73.98717,-73.9568,-73.9711],\"marker\":{\"color\":\"#636efa\"},\"mode\":\"markers\",\"name\":\"\",\"showlegend\":false,\"subplot\":\"mapbox\",\"type\":\"scattermapbox\"}],                        {\"template\":{\"data\":{\"histogram2dcontour\":[{\"type\":\"histogram2dcontour\",\"colorbar\":{\"outlinewidth\":0,\"ticks\":\"\"},\"colorscale\":[[0.0,\"#0d0887\"],[0.1111111111111111,\"#46039f\"],[0.2222222222222222,\"#7201a8\"],[0.3333333333333333,\"#9c179e\"],[0.4444444444444444,\"#bd3786\"],[0.5555555555555556,\"#d8576b\"],[0.6666666666666666,\"#ed7953\"],[0.7777777777777778,\"#fb9f3a\"],[0.8888888888888888,\"#fdca26\"],[1.0,\"#f0f921\"]]}],\"choropleth\":[{\"type\":\"choropleth\",\"colorbar\":{\"outlinewidth\":0,\"ticks\":\"\"}}],\"histogram2d\":[{\"type\":\"histogram2d\",\"colorbar\":{\"outlinewidth\":0,\"ticks\":\"\"},\"colorscale\":[[0.0,\"#0d0887\"],[0.1111111111111111,\"#46039f\"],[0.2222222222222222,\"#7201a8\"],[0.3333333333333333,\"#9c179e\"],[0.4444444444444444,\"#bd3786\"],[0.5555555555555556,\"#d8576b\"],[0.6666666666666666,\"#ed7953\"],[0.7777777777777778,\"#fb9f3a\"],[0.8888888888888888,\"#fdca26\"],[1.0,\"#f0f921\"]]}],\"heatmap\":[{\"type\":\"heatmap\",\"colorbar\":{\"outlinewidth\":0,\"ticks\":\"\"},\"colorscale\":[[0.0,\"#0d0887\"],[0.1111111111111111,\"#46039f\"],[0.2222222222222222,\"#7201a8\"],[0.3333333333333333,\"#9c179e\"],[0.4444444444444444,\"#bd3786\"],[0.5555555555555556,\"#d8576b\"],[0.6666666666666666,\"#ed7953\"],[0.7777777777777778,\"#fb9f3a\"],[0.8888888888888888,\"#fdca26\"],[1.0,\"#f0f921\"]]}],\"heatmapgl\":[{\"type\":\"heatmapgl\",\"colorbar\":{\"outlinewidth\":0,\"ticks\":\"\"},\"colorscale\":[[0.0,\"#0d0887\"],[0.1111111111111111,\"#46039f\"],[0.2222222222222222,\"#7201a8\"],[0.3333333333333333,\"#9c179e\"],[0.4444444444444444,\"#bd3786\"],[0.5555555555555556,\"#d8576b\"],[0.6666666666666666,\"#ed7953\"],[0.7777777777777778,\"#fb9f3a\"],[0.8888888888888888,\"#fdca26\"],[1.0,\"#f0f921\"]]}],\"contourcarpet\":[{\"type\":\"contourcarpet\",\"colorbar\":{\"outlinewidth\":0,\"ticks\":\"\"}}],\"contour\":[{\"type\":\"contour\",\"colorbar\":{\"outlinewidth\":0,\"ticks\":\"\"},\"colorscale\":[[0.0,\"#0d0887\"],[0.1111111111111111,\"#46039f\"],[0.2222222222222222,\"#7201a8\"],[0.3333333333333333,\"#9c179e\"],[0.4444444444444444,\"#bd3786\"],[0.5555555555555556,\"#d8576b\"],[0.6666666666666666,\"#ed7953\"],[0.7777777777777778,\"#fb9f3a\"],[0.8888888888888888,\"#fdca26\"],[1.0,\"#f0f921\"]]}],\"surface\":[{\"type\":\"surface\",\"colorbar\":{\"outlinewidth\":0,\"ticks\":\"\"},\"colorscale\":[[0.0,\"#0d0887\"],[0.1111111111111111,\"#46039f\"],[0.2222222222222222,\"#7201a8\"],[0.3333333333333333,\"#9c179e\"],[0.4444444444444444,\"#bd3786\"],[0.5555555555555556,\"#d8576b\"],[0.6666666666666666,\"#ed7953\"],[0.7777777777777778,\"#fb9f3a\"],[0.8888888888888888,\"#fdca26\"],[1.0,\"#f0f921\"]]}],\"mesh3d\":[{\"type\":\"mesh3d\",\"colorbar\":{\"outlinewidth\":0,\"ticks\":\"\"}}],\"scatter\":[{\"fillpattern\":{\"fillmode\":\"overlay\",\"size\":10,\"solidity\":0.2},\"type\":\"scatter\"}],\"parcoords\":[{\"type\":\"parcoords\",\"line\":{\"colorbar\":{\"outlinewidth\":0,\"ticks\":\"\"}}}],\"scatterpolargl\":[{\"type\":\"scatterpolargl\",\"marker\":{\"colorbar\":{\"outlinewidth\":0,\"ticks\":\"\"}}}],\"bar\":[{\"error_x\":{\"color\":\"#2a3f5f\"},\"error_y\":{\"color\":\"#2a3f5f\"},\"marker\":{\"line\":{\"color\":\"#E5ECF6\",\"width\":0.5},\"pattern\":{\"fillmode\":\"overlay\",\"size\":10,\"solidity\":0.2}},\"type\":\"bar\"}],\"scattergeo\":[{\"type\":\"scattergeo\",\"marker\":{\"colorbar\":{\"outlinewidth\":0,\"ticks\":\"\"}}}],\"scatterpolar\":[{\"type\":\"scatterpolar\",\"marker\":{\"colorbar\":{\"outlinewidth\":0,\"ticks\":\"\"}}}],\"histogram\":[{\"marker\":{\"pattern\":{\"fillmode\":\"overlay\",\"size\":10,\"solidity\":0.2}},\"type\":\"histogram\"}],\"scattergl\":[{\"type\":\"scattergl\",\"marker\":{\"colorbar\":{\"outlinewidth\":0,\"ticks\":\"\"}}}],\"scatter3d\":[{\"type\":\"scatter3d\",\"line\":{\"colorbar\":{\"outlinewidth\":0,\"ticks\":\"\"}},\"marker\":{\"colorbar\":{\"outlinewidth\":0,\"ticks\":\"\"}}}],\"scattermapbox\":[{\"type\":\"scattermapbox\",\"marker\":{\"colorbar\":{\"outlinewidth\":0,\"ticks\":\"\"}}}],\"scatterternary\":[{\"type\":\"scatterternary\",\"marker\":{\"colorbar\":{\"outlinewidth\":0,\"ticks\":\"\"}}}],\"scattercarpet\":[{\"type\":\"scattercarpet\",\"marker\":{\"colorbar\":{\"outlinewidth\":0,\"ticks\":\"\"}}}],\"carpet\":[{\"aaxis\":{\"endlinecolor\":\"#2a3f5f\",\"gridcolor\":\"white\",\"linecolor\":\"white\",\"minorgridcolor\":\"white\",\"startlinecolor\":\"#2a3f5f\"},\"baxis\":{\"endlinecolor\":\"#2a3f5f\",\"gridcolor\":\"white\",\"linecolor\":\"white\",\"minorgridcolor\":\"white\",\"startlinecolor\":\"#2a3f5f\"},\"type\":\"carpet\"}],\"table\":[{\"cells\":{\"fill\":{\"color\":\"#EBF0F8\"},\"line\":{\"color\":\"white\"}},\"header\":{\"fill\":{\"color\":\"#C8D4E3\"},\"line\":{\"color\":\"white\"}},\"type\":\"table\"}],\"barpolar\":[{\"marker\":{\"line\":{\"color\":\"#E5ECF6\",\"width\":0.5},\"pattern\":{\"fillmode\":\"overlay\",\"size\":10,\"solidity\":0.2}},\"type\":\"barpolar\"}],\"pie\":[{\"automargin\":true,\"type\":\"pie\"}]},\"layout\":{\"autotypenumbers\":\"strict\",\"colorway\":[\"#636efa\",\"#EF553B\",\"#00cc96\",\"#ab63fa\",\"#FFA15A\",\"#19d3f3\",\"#FF6692\",\"#B6E880\",\"#FF97FF\",\"#FECB52\"],\"font\":{\"color\":\"#2a3f5f\"},\"hovermode\":\"closest\",\"hoverlabel\":{\"align\":\"left\"},\"paper_bgcolor\":\"white\",\"plot_bgcolor\":\"#E5ECF6\",\"polar\":{\"bgcolor\":\"#E5ECF6\",\"angularaxis\":{\"gridcolor\":\"white\",\"linecolor\":\"white\",\"ticks\":\"\"},\"radialaxis\":{\"gridcolor\":\"white\",\"linecolor\":\"white\",\"ticks\":\"\"}},\"ternary\":{\"bgcolor\":\"#E5ECF6\",\"aaxis\":{\"gridcolor\":\"white\",\"linecolor\":\"white\",\"ticks\":\"\"},\"baxis\":{\"gridcolor\":\"white\",\"linecolor\":\"white\",\"ticks\":\"\"},\"caxis\":{\"gridcolor\":\"white\",\"linecolor\":\"white\",\"ticks\":\"\"}},\"coloraxis\":{\"colorbar\":{\"outlinewidth\":0,\"ticks\":\"\"}},\"colorscale\":{\"sequential\":[[0.0,\"#0d0887\"],[0.1111111111111111,\"#46039f\"],[0.2222222222222222,\"#7201a8\"],[0.3333333333333333,\"#9c179e\"],[0.4444444444444444,\"#bd3786\"],[0.5555555555555556,\"#d8576b\"],[0.6666666666666666,\"#ed7953\"],[0.7777777777777778,\"#fb9f3a\"],[0.8888888888888888,\"#fdca26\"],[1.0,\"#f0f921\"]],\"sequentialminus\":[[0.0,\"#0d0887\"],[0.1111111111111111,\"#46039f\"],[0.2222222222222222,\"#7201a8\"],[0.3333333333333333,\"#9c179e\"],[0.4444444444444444,\"#bd3786\"],[0.5555555555555556,\"#d8576b\"],[0.6666666666666666,\"#ed7953\"],[0.7777777777777778,\"#fb9f3a\"],[0.8888888888888888,\"#fdca26\"],[1.0,\"#f0f921\"]],\"diverging\":[[0,\"#8e0152\"],[0.1,\"#c51b7d\"],[0.2,\"#de77ae\"],[0.3,\"#f1b6da\"],[0.4,\"#fde0ef\"],[0.5,\"#f7f7f7\"],[0.6,\"#e6f5d0\"],[0.7,\"#b8e186\"],[0.8,\"#7fbc41\"],[0.9,\"#4d9221\"],[1,\"#276419\"]]},\"xaxis\":{\"gridcolor\":\"white\",\"linecolor\":\"white\",\"ticks\":\"\",\"title\":{\"standoff\":15},\"zerolinecolor\":\"white\",\"automargin\":true,\"zerolinewidth\":2},\"yaxis\":{\"gridcolor\":\"white\",\"linecolor\":\"white\",\"ticks\":\"\",\"title\":{\"standoff\":15},\"zerolinecolor\":\"white\",\"automargin\":true,\"zerolinewidth\":2},\"scene\":{\"xaxis\":{\"backgroundcolor\":\"#E5ECF6\",\"gridcolor\":\"white\",\"linecolor\":\"white\",\"showbackground\":true,\"ticks\":\"\",\"zerolinecolor\":\"white\",\"gridwidth\":2},\"yaxis\":{\"backgroundcolor\":\"#E5ECF6\",\"gridcolor\":\"white\",\"linecolor\":\"white\",\"showbackground\":true,\"ticks\":\"\",\"zerolinecolor\":\"white\",\"gridwidth\":2},\"zaxis\":{\"backgroundcolor\":\"#E5ECF6\",\"gridcolor\":\"white\",\"linecolor\":\"white\",\"showbackground\":true,\"ticks\":\"\",\"zerolinecolor\":\"white\",\"gridwidth\":2}},\"shapedefaults\":{\"line\":{\"color\":\"#2a3f5f\"}},\"annotationdefaults\":{\"arrowcolor\":\"#2a3f5f\",\"arrowhead\":0,\"arrowwidth\":1},\"geo\":{\"bgcolor\":\"white\",\"landcolor\":\"#E5ECF6\",\"subunitcolor\":\"white\",\"showland\":true,\"showlakes\":true,\"lakecolor\":\"white\"},\"title\":{\"x\":0.05},\"mapbox\":{\"style\":\"light\"}}},\"mapbox\":{\"domain\":{\"x\":[0.0,1.0],\"y\":[0.0,1.0]},\"center\":{\"lat\":40.72796380368102,\"lon\":-73.95015885480579},\"zoom\":8,\"style\":\"open-street-map\"},\"legend\":{\"tracegroupgap\":0},\"margin\":{\"t\":60}},                        {\"responsive\": true}                    ).then(function(){\n",
       "                            \n",
       "var gd = document.getElementById('7c9370a1-cc69-4b48-a3e8-47d06efc108a');\n",
       "var x = new MutationObserver(function (mutations, observer) {{\n",
       "        var display = window.getComputedStyle(gd).display;\n",
       "        if (!display || display === 'none') {{\n",
       "            console.log([gd, 'removed!']);\n",
       "            Plotly.purge(gd);\n",
       "            observer.disconnect();\n",
       "        }}\n",
       "}});\n",
       "\n",
       "// Listen for the removal of the full notebook cells\n",
       "var notebookContainer = gd.closest('#notebook-container');\n",
       "if (notebookContainer) {{\n",
       "    x.observe(notebookContainer, {childList: true});\n",
       "}}\n",
       "\n",
       "// Listen for the clearing of the current output cell\n",
       "var outputEl = gd.closest('.output');\n",
       "if (outputEl) {{\n",
       "    x.observe(outputEl, {childList: true});\n",
       "}}\n",
       "\n",
       "                        })                };                });            </script>        </div>"
      ]
     },
     "metadata": {},
     "output_type": "display_data"
    }
   ],
   "source": [
    "fig = px.scatter_mapbox(df_sample, lat='latitude', lon='longitude', labels='labels')\n",
    "fig.update_layout(mapbox_style=\"open-street-map\")\n",
    "fig.show()"
   ]
  },
  {
   "cell_type": "code",
   "execution_count": 21,
   "id": "8f8414f4",
   "metadata": {},
   "outputs": [
    {
     "data": {
      "text/plain": [
       "['Brooklyn', 'Manhattan', 'Queens', 'Staten Island', 'Bronx']"
      ]
     },
     "execution_count": 21,
     "metadata": {},
     "output_type": "execute_result"
    }
   ],
   "source": [
    "list(df['neighbourhood_group'].unique())"
   ]
  },
  {
   "cell_type": "code",
   "execution_count": 18,
   "id": "ac95a4d8",
   "metadata": {},
   "outputs": [
    {
     "data": {
      "text/html": [
       "<div>\n",
       "<style scoped>\n",
       "    .dataframe tbody tr th:only-of-type {\n",
       "        vertical-align: middle;\n",
       "    }\n",
       "\n",
       "    .dataframe tbody tr th {\n",
       "        vertical-align: top;\n",
       "    }\n",
       "\n",
       "    .dataframe thead th {\n",
       "        text-align: right;\n",
       "    }\n",
       "</style>\n",
       "<table border=\"1\" class=\"dataframe\">\n",
       "  <thead>\n",
       "    <tr style=\"text-align: right;\">\n",
       "      <th></th>\n",
       "      <th>name</th>\n",
       "      <th>latitude</th>\n",
       "      <th>longitude</th>\n",
       "      <th>price</th>\n",
       "      <th>number_of_reviews</th>\n",
       "      <th>neighbourhood_group_Bronx</th>\n",
       "      <th>neighbourhood_group_Brooklyn</th>\n",
       "      <th>neighbourhood_group_Manhattan</th>\n",
       "      <th>neighbourhood_group_Queens</th>\n",
       "      <th>neighbourhood_group_Staten Island</th>\n",
       "      <th>...</th>\n",
       "      <th>neighbourhood_Williamsburg</th>\n",
       "      <th>neighbourhood_Willowbrook</th>\n",
       "      <th>neighbourhood_Windsor Terrace</th>\n",
       "      <th>neighbourhood_Woodhaven</th>\n",
       "      <th>neighbourhood_Woodlawn</th>\n",
       "      <th>neighbourhood_Woodrow</th>\n",
       "      <th>neighbourhood_Woodside</th>\n",
       "      <th>room_type_Entire home/apt</th>\n",
       "      <th>room_type_Private room</th>\n",
       "      <th>room_type_Shared room</th>\n",
       "    </tr>\n",
       "  </thead>\n",
       "  <tbody>\n",
       "    <tr>\n",
       "      <th>0</th>\n",
       "      <td>Clean &amp; quiet apt home by the park</td>\n",
       "      <td>40.64749</td>\n",
       "      <td>-73.97237</td>\n",
       "      <td>149</td>\n",
       "      <td>9</td>\n",
       "      <td>0</td>\n",
       "      <td>1</td>\n",
       "      <td>0</td>\n",
       "      <td>0</td>\n",
       "      <td>0</td>\n",
       "      <td>...</td>\n",
       "      <td>0</td>\n",
       "      <td>0</td>\n",
       "      <td>0</td>\n",
       "      <td>0</td>\n",
       "      <td>0</td>\n",
       "      <td>0</td>\n",
       "      <td>0</td>\n",
       "      <td>0</td>\n",
       "      <td>1</td>\n",
       "      <td>0</td>\n",
       "    </tr>\n",
       "    <tr>\n",
       "      <th>1</th>\n",
       "      <td>Skylit Midtown Castle</td>\n",
       "      <td>40.75362</td>\n",
       "      <td>-73.98377</td>\n",
       "      <td>225</td>\n",
       "      <td>45</td>\n",
       "      <td>0</td>\n",
       "      <td>0</td>\n",
       "      <td>1</td>\n",
       "      <td>0</td>\n",
       "      <td>0</td>\n",
       "      <td>...</td>\n",
       "      <td>0</td>\n",
       "      <td>0</td>\n",
       "      <td>0</td>\n",
       "      <td>0</td>\n",
       "      <td>0</td>\n",
       "      <td>0</td>\n",
       "      <td>0</td>\n",
       "      <td>1</td>\n",
       "      <td>0</td>\n",
       "      <td>0</td>\n",
       "    </tr>\n",
       "    <tr>\n",
       "      <th>2</th>\n",
       "      <td>THE VILLAGE OF HARLEM....NEW YORK !</td>\n",
       "      <td>40.80902</td>\n",
       "      <td>-73.94190</td>\n",
       "      <td>150</td>\n",
       "      <td>0</td>\n",
       "      <td>0</td>\n",
       "      <td>0</td>\n",
       "      <td>1</td>\n",
       "      <td>0</td>\n",
       "      <td>0</td>\n",
       "      <td>...</td>\n",
       "      <td>0</td>\n",
       "      <td>0</td>\n",
       "      <td>0</td>\n",
       "      <td>0</td>\n",
       "      <td>0</td>\n",
       "      <td>0</td>\n",
       "      <td>0</td>\n",
       "      <td>0</td>\n",
       "      <td>1</td>\n",
       "      <td>0</td>\n",
       "    </tr>\n",
       "    <tr>\n",
       "      <th>3</th>\n",
       "      <td>Cozy Entire Floor of Brownstone</td>\n",
       "      <td>40.68514</td>\n",
       "      <td>-73.95976</td>\n",
       "      <td>89</td>\n",
       "      <td>270</td>\n",
       "      <td>0</td>\n",
       "      <td>1</td>\n",
       "      <td>0</td>\n",
       "      <td>0</td>\n",
       "      <td>0</td>\n",
       "      <td>...</td>\n",
       "      <td>0</td>\n",
       "      <td>0</td>\n",
       "      <td>0</td>\n",
       "      <td>0</td>\n",
       "      <td>0</td>\n",
       "      <td>0</td>\n",
       "      <td>0</td>\n",
       "      <td>1</td>\n",
       "      <td>0</td>\n",
       "      <td>0</td>\n",
       "    </tr>\n",
       "    <tr>\n",
       "      <th>4</th>\n",
       "      <td>Entire Apt: Spacious Studio/Loft by central park</td>\n",
       "      <td>40.79851</td>\n",
       "      <td>-73.94399</td>\n",
       "      <td>80</td>\n",
       "      <td>9</td>\n",
       "      <td>0</td>\n",
       "      <td>0</td>\n",
       "      <td>1</td>\n",
       "      <td>0</td>\n",
       "      <td>0</td>\n",
       "      <td>...</td>\n",
       "      <td>0</td>\n",
       "      <td>0</td>\n",
       "      <td>0</td>\n",
       "      <td>0</td>\n",
       "      <td>0</td>\n",
       "      <td>0</td>\n",
       "      <td>0</td>\n",
       "      <td>1</td>\n",
       "      <td>0</td>\n",
       "      <td>0</td>\n",
       "    </tr>\n",
       "    <tr>\n",
       "      <th>...</th>\n",
       "      <td>...</td>\n",
       "      <td>...</td>\n",
       "      <td>...</td>\n",
       "      <td>...</td>\n",
       "      <td>...</td>\n",
       "      <td>...</td>\n",
       "      <td>...</td>\n",
       "      <td>...</td>\n",
       "      <td>...</td>\n",
       "      <td>...</td>\n",
       "      <td>...</td>\n",
       "      <td>...</td>\n",
       "      <td>...</td>\n",
       "      <td>...</td>\n",
       "      <td>...</td>\n",
       "      <td>...</td>\n",
       "      <td>...</td>\n",
       "      <td>...</td>\n",
       "      <td>...</td>\n",
       "      <td>...</td>\n",
       "      <td>...</td>\n",
       "    </tr>\n",
       "    <tr>\n",
       "      <th>48890</th>\n",
       "      <td>Charming one bedroom - newly renovated rowhouse</td>\n",
       "      <td>40.67853</td>\n",
       "      <td>-73.94995</td>\n",
       "      <td>70</td>\n",
       "      <td>0</td>\n",
       "      <td>0</td>\n",
       "      <td>1</td>\n",
       "      <td>0</td>\n",
       "      <td>0</td>\n",
       "      <td>0</td>\n",
       "      <td>...</td>\n",
       "      <td>0</td>\n",
       "      <td>0</td>\n",
       "      <td>0</td>\n",
       "      <td>0</td>\n",
       "      <td>0</td>\n",
       "      <td>0</td>\n",
       "      <td>0</td>\n",
       "      <td>0</td>\n",
       "      <td>1</td>\n",
       "      <td>0</td>\n",
       "    </tr>\n",
       "    <tr>\n",
       "      <th>48891</th>\n",
       "      <td>Affordable room in Bushwick/East Williamsburg</td>\n",
       "      <td>40.70184</td>\n",
       "      <td>-73.93317</td>\n",
       "      <td>40</td>\n",
       "      <td>0</td>\n",
       "      <td>0</td>\n",
       "      <td>1</td>\n",
       "      <td>0</td>\n",
       "      <td>0</td>\n",
       "      <td>0</td>\n",
       "      <td>...</td>\n",
       "      <td>0</td>\n",
       "      <td>0</td>\n",
       "      <td>0</td>\n",
       "      <td>0</td>\n",
       "      <td>0</td>\n",
       "      <td>0</td>\n",
       "      <td>0</td>\n",
       "      <td>0</td>\n",
       "      <td>1</td>\n",
       "      <td>0</td>\n",
       "    </tr>\n",
       "    <tr>\n",
       "      <th>48892</th>\n",
       "      <td>Sunny Studio at Historical Neighborhood</td>\n",
       "      <td>40.81475</td>\n",
       "      <td>-73.94867</td>\n",
       "      <td>115</td>\n",
       "      <td>0</td>\n",
       "      <td>0</td>\n",
       "      <td>0</td>\n",
       "      <td>1</td>\n",
       "      <td>0</td>\n",
       "      <td>0</td>\n",
       "      <td>...</td>\n",
       "      <td>0</td>\n",
       "      <td>0</td>\n",
       "      <td>0</td>\n",
       "      <td>0</td>\n",
       "      <td>0</td>\n",
       "      <td>0</td>\n",
       "      <td>0</td>\n",
       "      <td>1</td>\n",
       "      <td>0</td>\n",
       "      <td>0</td>\n",
       "    </tr>\n",
       "    <tr>\n",
       "      <th>48893</th>\n",
       "      <td>43rd St. Time Square-cozy single bed</td>\n",
       "      <td>40.75751</td>\n",
       "      <td>-73.99112</td>\n",
       "      <td>55</td>\n",
       "      <td>0</td>\n",
       "      <td>0</td>\n",
       "      <td>0</td>\n",
       "      <td>1</td>\n",
       "      <td>0</td>\n",
       "      <td>0</td>\n",
       "      <td>...</td>\n",
       "      <td>0</td>\n",
       "      <td>0</td>\n",
       "      <td>0</td>\n",
       "      <td>0</td>\n",
       "      <td>0</td>\n",
       "      <td>0</td>\n",
       "      <td>0</td>\n",
       "      <td>0</td>\n",
       "      <td>0</td>\n",
       "      <td>1</td>\n",
       "    </tr>\n",
       "    <tr>\n",
       "      <th>48894</th>\n",
       "      <td>Trendy duplex in the very heart of Hell's Kitchen</td>\n",
       "      <td>40.76404</td>\n",
       "      <td>-73.98933</td>\n",
       "      <td>90</td>\n",
       "      <td>0</td>\n",
       "      <td>0</td>\n",
       "      <td>0</td>\n",
       "      <td>1</td>\n",
       "      <td>0</td>\n",
       "      <td>0</td>\n",
       "      <td>...</td>\n",
       "      <td>0</td>\n",
       "      <td>0</td>\n",
       "      <td>0</td>\n",
       "      <td>0</td>\n",
       "      <td>0</td>\n",
       "      <td>0</td>\n",
       "      <td>0</td>\n",
       "      <td>0</td>\n",
       "      <td>1</td>\n",
       "      <td>0</td>\n",
       "    </tr>\n",
       "  </tbody>\n",
       "</table>\n",
       "<p>48895 rows × 234 columns</p>\n",
       "</div>"
      ],
      "text/plain": [
       "                                                    name  latitude  longitude  \\\n",
       "0                     Clean & quiet apt home by the park  40.64749  -73.97237   \n",
       "1                                  Skylit Midtown Castle  40.75362  -73.98377   \n",
       "2                    THE VILLAGE OF HARLEM....NEW YORK !  40.80902  -73.94190   \n",
       "3                        Cozy Entire Floor of Brownstone  40.68514  -73.95976   \n",
       "4       Entire Apt: Spacious Studio/Loft by central park  40.79851  -73.94399   \n",
       "...                                                  ...       ...        ...   \n",
       "48890    Charming one bedroom - newly renovated rowhouse  40.67853  -73.94995   \n",
       "48891      Affordable room in Bushwick/East Williamsburg  40.70184  -73.93317   \n",
       "48892            Sunny Studio at Historical Neighborhood  40.81475  -73.94867   \n",
       "48893               43rd St. Time Square-cozy single bed  40.75751  -73.99112   \n",
       "48894  Trendy duplex in the very heart of Hell's Kitchen  40.76404  -73.98933   \n",
       "\n",
       "       price  number_of_reviews  neighbourhood_group_Bronx  \\\n",
       "0        149                  9                          0   \n",
       "1        225                 45                          0   \n",
       "2        150                  0                          0   \n",
       "3         89                270                          0   \n",
       "4         80                  9                          0   \n",
       "...      ...                ...                        ...   \n",
       "48890     70                  0                          0   \n",
       "48891     40                  0                          0   \n",
       "48892    115                  0                          0   \n",
       "48893     55                  0                          0   \n",
       "48894     90                  0                          0   \n",
       "\n",
       "       neighbourhood_group_Brooklyn  neighbourhood_group_Manhattan  \\\n",
       "0                                 1                              0   \n",
       "1                                 0                              1   \n",
       "2                                 0                              1   \n",
       "3                                 1                              0   \n",
       "4                                 0                              1   \n",
       "...                             ...                            ...   \n",
       "48890                             1                              0   \n",
       "48891                             1                              0   \n",
       "48892                             0                              1   \n",
       "48893                             0                              1   \n",
       "48894                             0                              1   \n",
       "\n",
       "       neighbourhood_group_Queens  neighbourhood_group_Staten Island  ...  \\\n",
       "0                               0                                  0  ...   \n",
       "1                               0                                  0  ...   \n",
       "2                               0                                  0  ...   \n",
       "3                               0                                  0  ...   \n",
       "4                               0                                  0  ...   \n",
       "...                           ...                                ...  ...   \n",
       "48890                           0                                  0  ...   \n",
       "48891                           0                                  0  ...   \n",
       "48892                           0                                  0  ...   \n",
       "48893                           0                                  0  ...   \n",
       "48894                           0                                  0  ...   \n",
       "\n",
       "       neighbourhood_Williamsburg  neighbourhood_Willowbrook  \\\n",
       "0                               0                          0   \n",
       "1                               0                          0   \n",
       "2                               0                          0   \n",
       "3                               0                          0   \n",
       "4                               0                          0   \n",
       "...                           ...                        ...   \n",
       "48890                           0                          0   \n",
       "48891                           0                          0   \n",
       "48892                           0                          0   \n",
       "48893                           0                          0   \n",
       "48894                           0                          0   \n",
       "\n",
       "       neighbourhood_Windsor Terrace  neighbourhood_Woodhaven  \\\n",
       "0                                  0                        0   \n",
       "1                                  0                        0   \n",
       "2                                  0                        0   \n",
       "3                                  0                        0   \n",
       "4                                  0                        0   \n",
       "...                              ...                      ...   \n",
       "48890                              0                        0   \n",
       "48891                              0                        0   \n",
       "48892                              0                        0   \n",
       "48893                              0                        0   \n",
       "48894                              0                        0   \n",
       "\n",
       "       neighbourhood_Woodlawn  neighbourhood_Woodrow  neighbourhood_Woodside  \\\n",
       "0                           0                      0                       0   \n",
       "1                           0                      0                       0   \n",
       "2                           0                      0                       0   \n",
       "3                           0                      0                       0   \n",
       "4                           0                      0                       0   \n",
       "...                       ...                    ...                     ...   \n",
       "48890                       0                      0                       0   \n",
       "48891                       0                      0                       0   \n",
       "48892                       0                      0                       0   \n",
       "48893                       0                      0                       0   \n",
       "48894                       0                      0                       0   \n",
       "\n",
       "       room_type_Entire home/apt  room_type_Private room  \\\n",
       "0                              0                       1   \n",
       "1                              1                       0   \n",
       "2                              0                       1   \n",
       "3                              1                       0   \n",
       "4                              1                       0   \n",
       "...                          ...                     ...   \n",
       "48890                          0                       1   \n",
       "48891                          0                       1   \n",
       "48892                          1                       0   \n",
       "48893                          0                       0   \n",
       "48894                          0                       1   \n",
       "\n",
       "       room_type_Shared room  \n",
       "0                          0  \n",
       "1                          0  \n",
       "2                          0  \n",
       "3                          0  \n",
       "4                          0  \n",
       "...                      ...  \n",
       "48890                      0  \n",
       "48891                      0  \n",
       "48892                      0  \n",
       "48893                      1  \n",
       "48894                      0  \n",
       "\n",
       "[48895 rows x 234 columns]"
      ]
     },
     "execution_count": 18,
     "metadata": {},
     "output_type": "execute_result"
    }
   ],
   "source": [
    "df"
   ]
  },
  {
   "cell_type": "code",
   "execution_count": null,
   "id": "0ec5d835",
   "metadata": {},
   "outputs": [],
   "source": []
  }
 ],
 "metadata": {
  "kernelspec": {
   "display_name": "Python 3 (ipykernel)",
   "language": "python",
   "name": "python3"
  },
  "language_info": {
   "codemirror_mode": {
    "name": "ipython",
    "version": 3
   },
   "file_extension": ".py",
   "mimetype": "text/x-python",
   "name": "python",
   "nbconvert_exporter": "python",
   "pygments_lexer": "ipython3",
   "version": "3.9.13"
  }
 },
 "nbformat": 4,
 "nbformat_minor": 5
}
